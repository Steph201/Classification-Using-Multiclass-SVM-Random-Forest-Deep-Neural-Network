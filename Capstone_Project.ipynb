{
 "cells": [
  {
   "cell_type": "code",
   "execution_count": 1,
   "id": "674797d7",
   "metadata": {},
   "outputs": [
    {
     "name": "stdout",
     "output_type": "stream",
     "text": [
      "Data shape: (297, 20532)\n",
      "Label shape: (801, 2)\n"
     ]
    }
   ],
   "source": [
    "# 1. Merge both the datasets\n",
    "import warnings\n",
    "warnings.filterwarnings(\"ignore\")\n",
    "import pandas as pd\n",
    "data = pd.read_csv('Data/data.csv')\n",
    "labels = pd.read_csv('Data/labels.csv')\n",
    "print('Data shape:', data.shape)\n",
    "print('Label shape:', labels.shape)"
   ]
  },
  {
   "cell_type": "code",
   "execution_count": 2,
   "id": "6fda679d",
   "metadata": {},
   "outputs": [
    {
     "data": {
      "text/html": [
       "<div>\n",
       "<style scoped>\n",
       "    .dataframe tbody tr th:only-of-type {\n",
       "        vertical-align: middle;\n",
       "    }\n",
       "\n",
       "    .dataframe tbody tr th {\n",
       "        vertical-align: top;\n",
       "    }\n",
       "\n",
       "    .dataframe thead th {\n",
       "        text-align: right;\n",
       "    }\n",
       "</style>\n",
       "<table border=\"1\" class=\"dataframe\">\n",
       "  <thead>\n",
       "    <tr style=\"text-align: right;\">\n",
       "      <th></th>\n",
       "      <th>Unnamed: 0</th>\n",
       "      <th>gene_0</th>\n",
       "      <th>gene_1</th>\n",
       "      <th>gene_2</th>\n",
       "      <th>gene_3</th>\n",
       "      <th>gene_4</th>\n",
       "      <th>gene_5</th>\n",
       "      <th>gene_6</th>\n",
       "      <th>gene_7</th>\n",
       "      <th>gene_8</th>\n",
       "      <th>...</th>\n",
       "      <th>gene_20521</th>\n",
       "      <th>gene_20522</th>\n",
       "      <th>gene_20523</th>\n",
       "      <th>gene_20524</th>\n",
       "      <th>gene_20525</th>\n",
       "      <th>gene_20526</th>\n",
       "      <th>gene_20527</th>\n",
       "      <th>gene_20528</th>\n",
       "      <th>gene_20529</th>\n",
       "      <th>gene_20530</th>\n",
       "    </tr>\n",
       "  </thead>\n",
       "  <tbody>\n",
       "    <tr>\n",
       "      <th>0</th>\n",
       "      <td>sample_0</td>\n",
       "      <td>0.0</td>\n",
       "      <td>2.017209</td>\n",
       "      <td>3.265527</td>\n",
       "      <td>5.478487</td>\n",
       "      <td>10.431999</td>\n",
       "      <td>0.0</td>\n",
       "      <td>7.175175</td>\n",
       "      <td>0.591871</td>\n",
       "      <td>0.0</td>\n",
       "      <td>...</td>\n",
       "      <td>4.926711</td>\n",
       "      <td>8.210257</td>\n",
       "      <td>9.723516</td>\n",
       "      <td>7.220030</td>\n",
       "      <td>9.119813</td>\n",
       "      <td>12.003135</td>\n",
       "      <td>9.650743</td>\n",
       "      <td>8.921326</td>\n",
       "      <td>5.286759</td>\n",
       "      <td>0.0</td>\n",
       "    </tr>\n",
       "    <tr>\n",
       "      <th>1</th>\n",
       "      <td>sample_1</td>\n",
       "      <td>0.0</td>\n",
       "      <td>0.592732</td>\n",
       "      <td>1.588421</td>\n",
       "      <td>7.586157</td>\n",
       "      <td>9.623011</td>\n",
       "      <td>0.0</td>\n",
       "      <td>6.816049</td>\n",
       "      <td>0.000000</td>\n",
       "      <td>0.0</td>\n",
       "      <td>...</td>\n",
       "      <td>4.593372</td>\n",
       "      <td>7.323865</td>\n",
       "      <td>9.740931</td>\n",
       "      <td>6.256586</td>\n",
       "      <td>8.381612</td>\n",
       "      <td>12.674552</td>\n",
       "      <td>10.517059</td>\n",
       "      <td>9.397854</td>\n",
       "      <td>2.094168</td>\n",
       "      <td>0.0</td>\n",
       "    </tr>\n",
       "    <tr>\n",
       "      <th>2</th>\n",
       "      <td>sample_2</td>\n",
       "      <td>0.0</td>\n",
       "      <td>3.511759</td>\n",
       "      <td>4.327199</td>\n",
       "      <td>6.881787</td>\n",
       "      <td>9.870730</td>\n",
       "      <td>0.0</td>\n",
       "      <td>6.972130</td>\n",
       "      <td>0.452595</td>\n",
       "      <td>0.0</td>\n",
       "      <td>...</td>\n",
       "      <td>5.125213</td>\n",
       "      <td>8.127123</td>\n",
       "      <td>10.908640</td>\n",
       "      <td>5.401607</td>\n",
       "      <td>9.911597</td>\n",
       "      <td>9.045255</td>\n",
       "      <td>9.788359</td>\n",
       "      <td>10.090470</td>\n",
       "      <td>1.683023</td>\n",
       "      <td>0.0</td>\n",
       "    </tr>\n",
       "    <tr>\n",
       "      <th>3</th>\n",
       "      <td>sample_3</td>\n",
       "      <td>0.0</td>\n",
       "      <td>3.663618</td>\n",
       "      <td>4.507649</td>\n",
       "      <td>6.659068</td>\n",
       "      <td>10.196184</td>\n",
       "      <td>0.0</td>\n",
       "      <td>7.843375</td>\n",
       "      <td>0.434882</td>\n",
       "      <td>0.0</td>\n",
       "      <td>...</td>\n",
       "      <td>6.076566</td>\n",
       "      <td>8.792959</td>\n",
       "      <td>10.141520</td>\n",
       "      <td>8.942805</td>\n",
       "      <td>9.601208</td>\n",
       "      <td>11.392682</td>\n",
       "      <td>9.694814</td>\n",
       "      <td>9.684365</td>\n",
       "      <td>3.292001</td>\n",
       "      <td>0.0</td>\n",
       "    </tr>\n",
       "    <tr>\n",
       "      <th>4</th>\n",
       "      <td>sample_4</td>\n",
       "      <td>0.0</td>\n",
       "      <td>2.655741</td>\n",
       "      <td>2.821547</td>\n",
       "      <td>6.539454</td>\n",
       "      <td>9.738265</td>\n",
       "      <td>0.0</td>\n",
       "      <td>6.566967</td>\n",
       "      <td>0.360982</td>\n",
       "      <td>0.0</td>\n",
       "      <td>...</td>\n",
       "      <td>5.996032</td>\n",
       "      <td>8.891425</td>\n",
       "      <td>10.373790</td>\n",
       "      <td>7.181162</td>\n",
       "      <td>9.846910</td>\n",
       "      <td>11.922439</td>\n",
       "      <td>9.217749</td>\n",
       "      <td>9.461191</td>\n",
       "      <td>5.110372</td>\n",
       "      <td>0.0</td>\n",
       "    </tr>\n",
       "  </tbody>\n",
       "</table>\n",
       "<p>5 rows × 20532 columns</p>\n",
       "</div>"
      ],
      "text/plain": [
       "  Unnamed: 0  gene_0    gene_1    gene_2    gene_3     gene_4  gene_5  \\\n",
       "0   sample_0     0.0  2.017209  3.265527  5.478487  10.431999     0.0   \n",
       "1   sample_1     0.0  0.592732  1.588421  7.586157   9.623011     0.0   \n",
       "2   sample_2     0.0  3.511759  4.327199  6.881787   9.870730     0.0   \n",
       "3   sample_3     0.0  3.663618  4.507649  6.659068  10.196184     0.0   \n",
       "4   sample_4     0.0  2.655741  2.821547  6.539454   9.738265     0.0   \n",
       "\n",
       "     gene_6    gene_7  gene_8  ...  gene_20521  gene_20522  gene_20523  \\\n",
       "0  7.175175  0.591871     0.0  ...    4.926711    8.210257    9.723516   \n",
       "1  6.816049  0.000000     0.0  ...    4.593372    7.323865    9.740931   \n",
       "2  6.972130  0.452595     0.0  ...    5.125213    8.127123   10.908640   \n",
       "3  7.843375  0.434882     0.0  ...    6.076566    8.792959   10.141520   \n",
       "4  6.566967  0.360982     0.0  ...    5.996032    8.891425   10.373790   \n",
       "\n",
       "   gene_20524  gene_20525  gene_20526  gene_20527  gene_20528  gene_20529  \\\n",
       "0    7.220030    9.119813   12.003135    9.650743    8.921326    5.286759   \n",
       "1    6.256586    8.381612   12.674552   10.517059    9.397854    2.094168   \n",
       "2    5.401607    9.911597    9.045255    9.788359   10.090470    1.683023   \n",
       "3    8.942805    9.601208   11.392682    9.694814    9.684365    3.292001   \n",
       "4    7.181162    9.846910   11.922439    9.217749    9.461191    5.110372   \n",
       "\n",
       "   gene_20530  \n",
       "0         0.0  \n",
       "1         0.0  \n",
       "2         0.0  \n",
       "3         0.0  \n",
       "4         0.0  \n",
       "\n",
       "[5 rows x 20532 columns]"
      ]
     },
     "execution_count": 2,
     "metadata": {},
     "output_type": "execute_result"
    }
   ],
   "source": [
    "data.head(5)"
   ]
  },
  {
   "cell_type": "code",
   "execution_count": 3,
   "id": "3134a72b",
   "metadata": {},
   "outputs": [
    {
     "data": {
      "text/plain": [
       "Unnamed: 0    0\n",
       "gene_0        0\n",
       "gene_1        0\n",
       "gene_2        0\n",
       "gene_3        0\n",
       "             ..\n",
       "gene_20526    1\n",
       "gene_20527    1\n",
       "gene_20528    1\n",
       "gene_20529    1\n",
       "gene_20530    1\n",
       "Length: 20532, dtype: int64"
      ]
     },
     "execution_count": 3,
     "metadata": {},
     "output_type": "execute_result"
    }
   ],
   "source": [
    "data.isnull().sum()"
   ]
  },
  {
   "cell_type": "code",
   "execution_count": 4,
   "id": "02d2d817",
   "metadata": {},
   "outputs": [
    {
     "data": {
      "text/html": [
       "<div>\n",
       "<style scoped>\n",
       "    .dataframe tbody tr th:only-of-type {\n",
       "        vertical-align: middle;\n",
       "    }\n",
       "\n",
       "    .dataframe tbody tr th {\n",
       "        vertical-align: top;\n",
       "    }\n",
       "\n",
       "    .dataframe thead th {\n",
       "        text-align: right;\n",
       "    }\n",
       "</style>\n",
       "<table border=\"1\" class=\"dataframe\">\n",
       "  <thead>\n",
       "    <tr style=\"text-align: right;\">\n",
       "      <th></th>\n",
       "      <th>Unnamed: 0</th>\n",
       "      <th>Class</th>\n",
       "    </tr>\n",
       "  </thead>\n",
       "  <tbody>\n",
       "    <tr>\n",
       "      <th>0</th>\n",
       "      <td>sample_0</td>\n",
       "      <td>PRAD</td>\n",
       "    </tr>\n",
       "    <tr>\n",
       "      <th>1</th>\n",
       "      <td>sample_1</td>\n",
       "      <td>LUAD</td>\n",
       "    </tr>\n",
       "    <tr>\n",
       "      <th>2</th>\n",
       "      <td>sample_2</td>\n",
       "      <td>PRAD</td>\n",
       "    </tr>\n",
       "    <tr>\n",
       "      <th>3</th>\n",
       "      <td>sample_3</td>\n",
       "      <td>PRAD</td>\n",
       "    </tr>\n",
       "    <tr>\n",
       "      <th>4</th>\n",
       "      <td>sample_4</td>\n",
       "      <td>BRCA</td>\n",
       "    </tr>\n",
       "  </tbody>\n",
       "</table>\n",
       "</div>"
      ],
      "text/plain": [
       "  Unnamed: 0 Class\n",
       "0   sample_0  PRAD\n",
       "1   sample_1  LUAD\n",
       "2   sample_2  PRAD\n",
       "3   sample_3  PRAD\n",
       "4   sample_4  BRCA"
      ]
     },
     "execution_count": 4,
     "metadata": {},
     "output_type": "execute_result"
    }
   ],
   "source": [
    "labels.head(5)\n"
   ]
  },
  {
   "cell_type": "code",
   "execution_count": 5,
   "id": "b5f83b0f",
   "metadata": {},
   "outputs": [
    {
     "data": {
      "text/plain": [
       "BRCA    300\n",
       "KIRC    146\n",
       "LUAD    141\n",
       "PRAD    136\n",
       "COAD     78\n",
       "Name: Class, dtype: int64"
      ]
     },
     "execution_count": 5,
     "metadata": {},
     "output_type": "execute_result"
    }
   ],
   "source": [
    "labels.Class.value_counts()\n"
   ]
  },
  {
   "cell_type": "code",
   "execution_count": 6,
   "id": "f4310cc4",
   "metadata": {},
   "outputs": [
    {
     "name": "stdout",
     "output_type": "stream",
     "text": [
      "<class 'pandas.core.frame.DataFrame'>\n",
      "RangeIndex: 297 entries, 0 to 296\n",
      "Columns: 20532 entries, Unnamed: 0 to gene_20530\n",
      "dtypes: float64(20531), object(1)\n",
      "memory usage: 46.5+ MB\n"
     ]
    }
   ],
   "source": [
    "data.info()"
   ]
  },
  {
   "cell_type": "code",
   "execution_count": 7,
   "id": "aaaa92c4",
   "metadata": {},
   "outputs": [
    {
     "data": {
      "text/html": [
       "<div>\n",
       "<style scoped>\n",
       "    .dataframe tbody tr th:only-of-type {\n",
       "        vertical-align: middle;\n",
       "    }\n",
       "\n",
       "    .dataframe tbody tr th {\n",
       "        vertical-align: top;\n",
       "    }\n",
       "\n",
       "    .dataframe thead th {\n",
       "        text-align: right;\n",
       "    }\n",
       "</style>\n",
       "<table border=\"1\" class=\"dataframe\">\n",
       "  <thead>\n",
       "    <tr style=\"text-align: right;\">\n",
       "      <th></th>\n",
       "      <th>gene_0</th>\n",
       "      <th>gene_1</th>\n",
       "      <th>gene_2</th>\n",
       "      <th>gene_3</th>\n",
       "      <th>gene_4</th>\n",
       "      <th>gene_5</th>\n",
       "      <th>gene_6</th>\n",
       "      <th>gene_7</th>\n",
       "      <th>gene_8</th>\n",
       "      <th>gene_9</th>\n",
       "      <th>...</th>\n",
       "      <th>gene_20521</th>\n",
       "      <th>gene_20522</th>\n",
       "      <th>gene_20523</th>\n",
       "      <th>gene_20524</th>\n",
       "      <th>gene_20525</th>\n",
       "      <th>gene_20526</th>\n",
       "      <th>gene_20527</th>\n",
       "      <th>gene_20528</th>\n",
       "      <th>gene_20529</th>\n",
       "      <th>gene_20530</th>\n",
       "    </tr>\n",
       "  </thead>\n",
       "  <tbody>\n",
       "    <tr>\n",
       "      <th>count</th>\n",
       "      <td>297.000000</td>\n",
       "      <td>297.000000</td>\n",
       "      <td>297.000000</td>\n",
       "      <td>297.000000</td>\n",
       "      <td>297.000000</td>\n",
       "      <td>297.0</td>\n",
       "      <td>297.000000</td>\n",
       "      <td>297.000000</td>\n",
       "      <td>297.000000</td>\n",
       "      <td>297.000000</td>\n",
       "      <td>...</td>\n",
       "      <td>296.000000</td>\n",
       "      <td>296.000000</td>\n",
       "      <td>296.000000</td>\n",
       "      <td>296.000000</td>\n",
       "      <td>296.000000</td>\n",
       "      <td>296.000000</td>\n",
       "      <td>296.000000</td>\n",
       "      <td>296.000000</td>\n",
       "      <td>296.000000</td>\n",
       "      <td>296.000000</td>\n",
       "    </tr>\n",
       "    <tr>\n",
       "      <th>mean</th>\n",
       "      <td>0.024802</td>\n",
       "      <td>2.912565</td>\n",
       "      <td>3.090532</td>\n",
       "      <td>6.709880</td>\n",
       "      <td>9.811963</td>\n",
       "      <td>0.0</td>\n",
       "      <td>7.341397</td>\n",
       "      <td>0.474233</td>\n",
       "      <td>0.004010</td>\n",
       "      <td>0.013696</td>\n",
       "      <td>...</td>\n",
       "      <td>5.874402</td>\n",
       "      <td>8.723024</td>\n",
       "      <td>10.046994</td>\n",
       "      <td>4.926440</td>\n",
       "      <td>9.746112</td>\n",
       "      <td>11.755624</td>\n",
       "      <td>10.128528</td>\n",
       "      <td>9.553699</td>\n",
       "      <td>5.527142</td>\n",
       "      <td>0.091034</td>\n",
       "    </tr>\n",
       "    <tr>\n",
       "      <th>std</th>\n",
       "      <td>0.135437</td>\n",
       "      <td>1.266437</td>\n",
       "      <td>1.032765</td>\n",
       "      <td>0.657951</td>\n",
       "      <td>0.514391</td>\n",
       "      <td>0.0</td>\n",
       "      <td>1.013653</td>\n",
       "      <td>0.500725</td>\n",
       "      <td>0.040225</td>\n",
       "      <td>0.236026</td>\n",
       "      <td>...</td>\n",
       "      <td>0.742478</td>\n",
       "      <td>0.578370</td>\n",
       "      <td>0.376812</td>\n",
       "      <td>2.284400</td>\n",
       "      <td>0.530244</td>\n",
       "      <td>0.709268</td>\n",
       "      <td>0.551259</td>\n",
       "      <td>0.565873</td>\n",
       "      <td>2.021293</td>\n",
       "      <td>0.316633</td>\n",
       "    </tr>\n",
       "    <tr>\n",
       "      <th>min</th>\n",
       "      <td>0.000000</td>\n",
       "      <td>0.000000</td>\n",
       "      <td>0.000000</td>\n",
       "      <td>5.009284</td>\n",
       "      <td>8.435999</td>\n",
       "      <td>0.0</td>\n",
       "      <td>4.724639</td>\n",
       "      <td>0.000000</td>\n",
       "      <td>0.000000</td>\n",
       "      <td>0.000000</td>\n",
       "      <td>...</td>\n",
       "      <td>2.853517</td>\n",
       "      <td>7.283681</td>\n",
       "      <td>8.963838</td>\n",
       "      <td>0.000000</td>\n",
       "      <td>8.121212</td>\n",
       "      <td>9.045255</td>\n",
       "      <td>7.776446</td>\n",
       "      <td>7.864533</td>\n",
       "      <td>0.753091</td>\n",
       "      <td>0.000000</td>\n",
       "    </tr>\n",
       "    <tr>\n",
       "      <th>25%</th>\n",
       "      <td>0.000000</td>\n",
       "      <td>2.188717</td>\n",
       "      <td>2.371587</td>\n",
       "      <td>6.328896</td>\n",
       "      <td>9.464466</td>\n",
       "      <td>0.0</td>\n",
       "      <td>6.648996</td>\n",
       "      <td>0.000000</td>\n",
       "      <td>0.000000</td>\n",
       "      <td>0.000000</td>\n",
       "      <td>...</td>\n",
       "      <td>5.460800</td>\n",
       "      <td>8.370530</td>\n",
       "      <td>9.798547</td>\n",
       "      <td>3.389225</td>\n",
       "      <td>9.461222</td>\n",
       "      <td>11.380265</td>\n",
       "      <td>9.784843</td>\n",
       "      <td>9.193325</td>\n",
       "      <td>4.170551</td>\n",
       "      <td>0.000000</td>\n",
       "    </tr>\n",
       "    <tr>\n",
       "      <th>50%</th>\n",
       "      <td>0.000000</td>\n",
       "      <td>3.027809</td>\n",
       "      <td>3.112433</td>\n",
       "      <td>6.664198</td>\n",
       "      <td>9.791599</td>\n",
       "      <td>0.0</td>\n",
       "      <td>7.392815</td>\n",
       "      <td>0.412294</td>\n",
       "      <td>0.000000</td>\n",
       "      <td>0.000000</td>\n",
       "      <td>...</td>\n",
       "      <td>5.924683</td>\n",
       "      <td>8.711834</td>\n",
       "      <td>10.041549</td>\n",
       "      <td>5.596677</td>\n",
       "      <td>9.801596</td>\n",
       "      <td>11.761825</td>\n",
       "      <td>10.132631</td>\n",
       "      <td>9.550223</td>\n",
       "      <td>5.238952</td>\n",
       "      <td>0.000000</td>\n",
       "    </tr>\n",
       "    <tr>\n",
       "      <th>75%</th>\n",
       "      <td>0.000000</td>\n",
       "      <td>3.755902</td>\n",
       "      <td>3.769116</td>\n",
       "      <td>7.019880</td>\n",
       "      <td>10.188626</td>\n",
       "      <td>0.0</td>\n",
       "      <td>7.995937</td>\n",
       "      <td>0.770702</td>\n",
       "      <td>0.000000</td>\n",
       "      <td>0.000000</td>\n",
       "      <td>...</td>\n",
       "      <td>6.395160</td>\n",
       "      <td>9.066896</td>\n",
       "      <td>10.333106</td>\n",
       "      <td>6.604603</td>\n",
       "      <td>10.082727</td>\n",
       "      <td>12.161459</td>\n",
       "      <td>10.522980</td>\n",
       "      <td>9.889086</td>\n",
       "      <td>6.729610</td>\n",
       "      <td>0.000000</td>\n",
       "    </tr>\n",
       "    <tr>\n",
       "      <th>max</th>\n",
       "      <td>1.482332</td>\n",
       "      <td>6.237034</td>\n",
       "      <td>5.848044</td>\n",
       "      <td>10.129528</td>\n",
       "      <td>11.123940</td>\n",
       "      <td>0.0</td>\n",
       "      <td>10.219132</td>\n",
       "      <td>2.342697</td>\n",
       "      <td>0.444349</td>\n",
       "      <td>4.067604</td>\n",
       "      <td>...</td>\n",
       "      <td>7.535439</td>\n",
       "      <td>10.829588</td>\n",
       "      <td>11.150096</td>\n",
       "      <td>8.942805</td>\n",
       "      <td>11.088907</td>\n",
       "      <td>13.715361</td>\n",
       "      <td>11.552194</td>\n",
       "      <td>11.703510</td>\n",
       "      <td>11.205836</td>\n",
       "      <td>3.848728</td>\n",
       "    </tr>\n",
       "  </tbody>\n",
       "</table>\n",
       "<p>8 rows × 20531 columns</p>\n",
       "</div>"
      ],
      "text/plain": [
       "           gene_0      gene_1      gene_2      gene_3      gene_4  gene_5  \\\n",
       "count  297.000000  297.000000  297.000000  297.000000  297.000000   297.0   \n",
       "mean     0.024802    2.912565    3.090532    6.709880    9.811963     0.0   \n",
       "std      0.135437    1.266437    1.032765    0.657951    0.514391     0.0   \n",
       "min      0.000000    0.000000    0.000000    5.009284    8.435999     0.0   \n",
       "25%      0.000000    2.188717    2.371587    6.328896    9.464466     0.0   \n",
       "50%      0.000000    3.027809    3.112433    6.664198    9.791599     0.0   \n",
       "75%      0.000000    3.755902    3.769116    7.019880   10.188626     0.0   \n",
       "max      1.482332    6.237034    5.848044   10.129528   11.123940     0.0   \n",
       "\n",
       "           gene_6      gene_7      gene_8      gene_9  ...  gene_20521  \\\n",
       "count  297.000000  297.000000  297.000000  297.000000  ...  296.000000   \n",
       "mean     7.341397    0.474233    0.004010    0.013696  ...    5.874402   \n",
       "std      1.013653    0.500725    0.040225    0.236026  ...    0.742478   \n",
       "min      4.724639    0.000000    0.000000    0.000000  ...    2.853517   \n",
       "25%      6.648996    0.000000    0.000000    0.000000  ...    5.460800   \n",
       "50%      7.392815    0.412294    0.000000    0.000000  ...    5.924683   \n",
       "75%      7.995937    0.770702    0.000000    0.000000  ...    6.395160   \n",
       "max     10.219132    2.342697    0.444349    4.067604  ...    7.535439   \n",
       "\n",
       "       gene_20522  gene_20523  gene_20524  gene_20525  gene_20526  gene_20527  \\\n",
       "count  296.000000  296.000000  296.000000  296.000000  296.000000  296.000000   \n",
       "mean     8.723024   10.046994    4.926440    9.746112   11.755624   10.128528   \n",
       "std      0.578370    0.376812    2.284400    0.530244    0.709268    0.551259   \n",
       "min      7.283681    8.963838    0.000000    8.121212    9.045255    7.776446   \n",
       "25%      8.370530    9.798547    3.389225    9.461222   11.380265    9.784843   \n",
       "50%      8.711834   10.041549    5.596677    9.801596   11.761825   10.132631   \n",
       "75%      9.066896   10.333106    6.604603   10.082727   12.161459   10.522980   \n",
       "max     10.829588   11.150096    8.942805   11.088907   13.715361   11.552194   \n",
       "\n",
       "       gene_20528  gene_20529  gene_20530  \n",
       "count  296.000000  296.000000  296.000000  \n",
       "mean     9.553699    5.527142    0.091034  \n",
       "std      0.565873    2.021293    0.316633  \n",
       "min      7.864533    0.753091    0.000000  \n",
       "25%      9.193325    4.170551    0.000000  \n",
       "50%      9.550223    5.238952    0.000000  \n",
       "75%      9.889086    6.729610    0.000000  \n",
       "max     11.703510   11.205836    3.848728  \n",
       "\n",
       "[8 rows x 20531 columns]"
      ]
     },
     "execution_count": 7,
     "metadata": {},
     "output_type": "execute_result"
    }
   ],
   "source": [
    "data.describe()\n"
   ]
  },
  {
   "cell_type": "code",
   "execution_count": 8,
   "id": "4dab2b59",
   "metadata": {},
   "outputs": [
    {
     "data": {
      "text/html": [
       "<div>\n",
       "<style scoped>\n",
       "    .dataframe tbody tr th:only-of-type {\n",
       "        vertical-align: middle;\n",
       "    }\n",
       "\n",
       "    .dataframe tbody tr th {\n",
       "        vertical-align: top;\n",
       "    }\n",
       "\n",
       "    .dataframe thead th {\n",
       "        text-align: right;\n",
       "    }\n",
       "</style>\n",
       "<table border=\"1\" class=\"dataframe\">\n",
       "  <thead>\n",
       "    <tr style=\"text-align: right;\">\n",
       "      <th></th>\n",
       "      <th>Unnamed: 0</th>\n",
       "      <th>Class</th>\n",
       "    </tr>\n",
       "  </thead>\n",
       "  <tbody>\n",
       "    <tr>\n",
       "      <th>count</th>\n",
       "      <td>801</td>\n",
       "      <td>801</td>\n",
       "    </tr>\n",
       "    <tr>\n",
       "      <th>unique</th>\n",
       "      <td>801</td>\n",
       "      <td>5</td>\n",
       "    </tr>\n",
       "    <tr>\n",
       "      <th>top</th>\n",
       "      <td>sample_600</td>\n",
       "      <td>BRCA</td>\n",
       "    </tr>\n",
       "    <tr>\n",
       "      <th>freq</th>\n",
       "      <td>1</td>\n",
       "      <td>300</td>\n",
       "    </tr>\n",
       "  </tbody>\n",
       "</table>\n",
       "</div>"
      ],
      "text/plain": [
       "        Unnamed: 0 Class\n",
       "count          801   801\n",
       "unique         801     5\n",
       "top     sample_600  BRCA\n",
       "freq             1   300"
      ]
     },
     "execution_count": 8,
     "metadata": {},
     "output_type": "execute_result"
    }
   ],
   "source": [
    "labels.describe()\n"
   ]
  },
  {
   "cell_type": "code",
   "execution_count": 9,
   "id": "ee43e822",
   "metadata": {},
   "outputs": [
    {
     "data": {
      "text/html": [
       "<div>\n",
       "<style scoped>\n",
       "    .dataframe tbody tr th:only-of-type {\n",
       "        vertical-align: middle;\n",
       "    }\n",
       "\n",
       "    .dataframe tbody tr th {\n",
       "        vertical-align: top;\n",
       "    }\n",
       "\n",
       "    .dataframe thead th {\n",
       "        text-align: right;\n",
       "    }\n",
       "</style>\n",
       "<table border=\"1\" class=\"dataframe\">\n",
       "  <thead>\n",
       "    <tr style=\"text-align: right;\">\n",
       "      <th></th>\n",
       "      <th>Unnamed: 0</th>\n",
       "      <th>Class</th>\n",
       "      <th>gene_0</th>\n",
       "      <th>gene_1</th>\n",
       "      <th>gene_2</th>\n",
       "      <th>gene_3</th>\n",
       "      <th>gene_4</th>\n",
       "      <th>gene_5</th>\n",
       "      <th>gene_6</th>\n",
       "      <th>gene_7</th>\n",
       "      <th>...</th>\n",
       "      <th>gene_20521</th>\n",
       "      <th>gene_20522</th>\n",
       "      <th>gene_20523</th>\n",
       "      <th>gene_20524</th>\n",
       "      <th>gene_20525</th>\n",
       "      <th>gene_20526</th>\n",
       "      <th>gene_20527</th>\n",
       "      <th>gene_20528</th>\n",
       "      <th>gene_20529</th>\n",
       "      <th>gene_20530</th>\n",
       "    </tr>\n",
       "  </thead>\n",
       "  <tbody>\n",
       "    <tr>\n",
       "      <th>0</th>\n",
       "      <td>sample_0</td>\n",
       "      <td>PRAD</td>\n",
       "      <td>0.0</td>\n",
       "      <td>2.017209</td>\n",
       "      <td>3.265527</td>\n",
       "      <td>5.478487</td>\n",
       "      <td>10.431999</td>\n",
       "      <td>0.0</td>\n",
       "      <td>7.175175</td>\n",
       "      <td>0.591871</td>\n",
       "      <td>...</td>\n",
       "      <td>4.926711</td>\n",
       "      <td>8.210257</td>\n",
       "      <td>9.723516</td>\n",
       "      <td>7.220030</td>\n",
       "      <td>9.119813</td>\n",
       "      <td>12.003135</td>\n",
       "      <td>9.650743</td>\n",
       "      <td>8.921326</td>\n",
       "      <td>5.286759</td>\n",
       "      <td>0.0</td>\n",
       "    </tr>\n",
       "    <tr>\n",
       "      <th>1</th>\n",
       "      <td>sample_1</td>\n",
       "      <td>LUAD</td>\n",
       "      <td>0.0</td>\n",
       "      <td>0.592732</td>\n",
       "      <td>1.588421</td>\n",
       "      <td>7.586157</td>\n",
       "      <td>9.623011</td>\n",
       "      <td>0.0</td>\n",
       "      <td>6.816049</td>\n",
       "      <td>0.000000</td>\n",
       "      <td>...</td>\n",
       "      <td>4.593372</td>\n",
       "      <td>7.323865</td>\n",
       "      <td>9.740931</td>\n",
       "      <td>6.256586</td>\n",
       "      <td>8.381612</td>\n",
       "      <td>12.674552</td>\n",
       "      <td>10.517059</td>\n",
       "      <td>9.397854</td>\n",
       "      <td>2.094168</td>\n",
       "      <td>0.0</td>\n",
       "    </tr>\n",
       "    <tr>\n",
       "      <th>2</th>\n",
       "      <td>sample_2</td>\n",
       "      <td>PRAD</td>\n",
       "      <td>0.0</td>\n",
       "      <td>3.511759</td>\n",
       "      <td>4.327199</td>\n",
       "      <td>6.881787</td>\n",
       "      <td>9.870730</td>\n",
       "      <td>0.0</td>\n",
       "      <td>6.972130</td>\n",
       "      <td>0.452595</td>\n",
       "      <td>...</td>\n",
       "      <td>5.125213</td>\n",
       "      <td>8.127123</td>\n",
       "      <td>10.908640</td>\n",
       "      <td>5.401607</td>\n",
       "      <td>9.911597</td>\n",
       "      <td>9.045255</td>\n",
       "      <td>9.788359</td>\n",
       "      <td>10.090470</td>\n",
       "      <td>1.683023</td>\n",
       "      <td>0.0</td>\n",
       "    </tr>\n",
       "    <tr>\n",
       "      <th>3</th>\n",
       "      <td>sample_3</td>\n",
       "      <td>PRAD</td>\n",
       "      <td>0.0</td>\n",
       "      <td>3.663618</td>\n",
       "      <td>4.507649</td>\n",
       "      <td>6.659068</td>\n",
       "      <td>10.196184</td>\n",
       "      <td>0.0</td>\n",
       "      <td>7.843375</td>\n",
       "      <td>0.434882</td>\n",
       "      <td>...</td>\n",
       "      <td>6.076566</td>\n",
       "      <td>8.792959</td>\n",
       "      <td>10.141520</td>\n",
       "      <td>8.942805</td>\n",
       "      <td>9.601208</td>\n",
       "      <td>11.392682</td>\n",
       "      <td>9.694814</td>\n",
       "      <td>9.684365</td>\n",
       "      <td>3.292001</td>\n",
       "      <td>0.0</td>\n",
       "    </tr>\n",
       "    <tr>\n",
       "      <th>4</th>\n",
       "      <td>sample_4</td>\n",
       "      <td>BRCA</td>\n",
       "      <td>0.0</td>\n",
       "      <td>2.655741</td>\n",
       "      <td>2.821547</td>\n",
       "      <td>6.539454</td>\n",
       "      <td>9.738265</td>\n",
       "      <td>0.0</td>\n",
       "      <td>6.566967</td>\n",
       "      <td>0.360982</td>\n",
       "      <td>...</td>\n",
       "      <td>5.996032</td>\n",
       "      <td>8.891425</td>\n",
       "      <td>10.373790</td>\n",
       "      <td>7.181162</td>\n",
       "      <td>9.846910</td>\n",
       "      <td>11.922439</td>\n",
       "      <td>9.217749</td>\n",
       "      <td>9.461191</td>\n",
       "      <td>5.110372</td>\n",
       "      <td>0.0</td>\n",
       "    </tr>\n",
       "  </tbody>\n",
       "</table>\n",
       "<p>5 rows × 20533 columns</p>\n",
       "</div>"
      ],
      "text/plain": [
       "  Unnamed: 0 Class  gene_0    gene_1    gene_2    gene_3     gene_4  gene_5  \\\n",
       "0   sample_0  PRAD     0.0  2.017209  3.265527  5.478487  10.431999     0.0   \n",
       "1   sample_1  LUAD     0.0  0.592732  1.588421  7.586157   9.623011     0.0   \n",
       "2   sample_2  PRAD     0.0  3.511759  4.327199  6.881787   9.870730     0.0   \n",
       "3   sample_3  PRAD     0.0  3.663618  4.507649  6.659068  10.196184     0.0   \n",
       "4   sample_4  BRCA     0.0  2.655741  2.821547  6.539454   9.738265     0.0   \n",
       "\n",
       "     gene_6    gene_7  ...  gene_20521  gene_20522  gene_20523  gene_20524  \\\n",
       "0  7.175175  0.591871  ...    4.926711    8.210257    9.723516    7.220030   \n",
       "1  6.816049  0.000000  ...    4.593372    7.323865    9.740931    6.256586   \n",
       "2  6.972130  0.452595  ...    5.125213    8.127123   10.908640    5.401607   \n",
       "3  7.843375  0.434882  ...    6.076566    8.792959   10.141520    8.942805   \n",
       "4  6.566967  0.360982  ...    5.996032    8.891425   10.373790    7.181162   \n",
       "\n",
       "   gene_20525  gene_20526  gene_20527  gene_20528  gene_20529  gene_20530  \n",
       "0    9.119813   12.003135    9.650743    8.921326    5.286759         0.0  \n",
       "1    8.381612   12.674552   10.517059    9.397854    2.094168         0.0  \n",
       "2    9.911597    9.045255    9.788359   10.090470    1.683023         0.0  \n",
       "3    9.601208   11.392682    9.694814    9.684365    3.292001         0.0  \n",
       "4    9.846910   11.922439    9.217749    9.461191    5.110372         0.0  \n",
       "\n",
       "[5 rows x 20533 columns]"
      ]
     },
     "execution_count": 9,
     "metadata": {},
     "output_type": "execute_result"
    }
   ],
   "source": [
    "mapping = dict(labels[['Unnamed: 0','Class']].values)\n",
    "merged_data = data.copy()\n",
    "merged_data['Class'] = merged_data['Unnamed: 0'].map(mapping)\n",
    "first_column = merged_data.pop('Class')\n",
    "merged_data.insert(1, 'Class', first_column)\n",
    "merged_data.head(5)"
   ]
  },
  {
   "cell_type": "code",
   "execution_count": 10,
   "id": "cdec979f",
   "metadata": {},
   "outputs": [
    {
     "data": {
      "text/plain": [
       "(297, 20533)"
      ]
     },
     "execution_count": 10,
     "metadata": {},
     "output_type": "execute_result"
    }
   ],
   "source": [
    "merged_data.shape\n"
   ]
  },
  {
   "cell_type": "code",
   "execution_count": 11,
   "id": "1ea0a7c2",
   "metadata": {},
   "outputs": [
    {
     "data": {
      "text/plain": [
       "BRCA    107\n",
       "KIRC     57\n",
       "PRAD     56\n",
       "LUAD     54\n",
       "COAD     23\n",
       "Name: Class, dtype: int64"
      ]
     },
     "execution_count": 11,
     "metadata": {},
     "output_type": "execute_result"
    }
   ],
   "source": [
    "merged_data.Class.value_counts()\n"
   ]
  },
  {
   "cell_type": "code",
   "execution_count": 12,
   "id": "9291eedb",
   "metadata": {},
   "outputs": [
    {
     "data": {
      "text/html": [
       "<div>\n",
       "<style scoped>\n",
       "    .dataframe tbody tr th:only-of-type {\n",
       "        vertical-align: middle;\n",
       "    }\n",
       "\n",
       "    .dataframe tbody tr th {\n",
       "        vertical-align: top;\n",
       "    }\n",
       "\n",
       "    .dataframe thead th {\n",
       "        text-align: right;\n",
       "    }\n",
       "</style>\n",
       "<table border=\"1\" class=\"dataframe\">\n",
       "  <thead>\n",
       "    <tr style=\"text-align: right;\">\n",
       "      <th></th>\n",
       "      <th>gene_0</th>\n",
       "      <th>gene_1</th>\n",
       "      <th>gene_10</th>\n",
       "      <th>gene_100</th>\n",
       "      <th>gene_1000</th>\n",
       "      <th>gene_10000</th>\n",
       "      <th>gene_10001</th>\n",
       "      <th>gene_10002</th>\n",
       "      <th>gene_10003</th>\n",
       "      <th>gene_10004</th>\n",
       "      <th>...</th>\n",
       "      <th>gene_9990</th>\n",
       "      <th>gene_9991</th>\n",
       "      <th>gene_9992</th>\n",
       "      <th>gene_9993</th>\n",
       "      <th>gene_9994</th>\n",
       "      <th>gene_9995</th>\n",
       "      <th>gene_9996</th>\n",
       "      <th>gene_9997</th>\n",
       "      <th>gene_9998</th>\n",
       "      <th>gene_9999</th>\n",
       "    </tr>\n",
       "    <tr>\n",
       "      <th>Class</th>\n",
       "      <th></th>\n",
       "      <th></th>\n",
       "      <th></th>\n",
       "      <th></th>\n",
       "      <th></th>\n",
       "      <th></th>\n",
       "      <th></th>\n",
       "      <th></th>\n",
       "      <th></th>\n",
       "      <th></th>\n",
       "      <th></th>\n",
       "      <th></th>\n",
       "      <th></th>\n",
       "      <th></th>\n",
       "      <th></th>\n",
       "      <th></th>\n",
       "      <th></th>\n",
       "      <th></th>\n",
       "      <th></th>\n",
       "      <th></th>\n",
       "      <th></th>\n",
       "    </tr>\n",
       "  </thead>\n",
       "  <tbody>\n",
       "    <tr>\n",
       "      <th>BRCA</th>\n",
       "      <td>0.019142</td>\n",
       "      <td>2.652930</td>\n",
       "      <td>0.560744</td>\n",
       "      <td>10.638942</td>\n",
       "      <td>10.296747</td>\n",
       "      <td>3.259767</td>\n",
       "      <td>7.373822</td>\n",
       "      <td>7.870140</td>\n",
       "      <td>7.503473</td>\n",
       "      <td>7.423994</td>\n",
       "      <td>...</td>\n",
       "      <td>2.046371</td>\n",
       "      <td>5.459831</td>\n",
       "      <td>1.633581</td>\n",
       "      <td>2.194617</td>\n",
       "      <td>1.628420</td>\n",
       "      <td>2.438315</td>\n",
       "      <td>0.071885</td>\n",
       "      <td>1.955373</td>\n",
       "      <td>0.142907</td>\n",
       "      <td>6.964255</td>\n",
       "    </tr>\n",
       "    <tr>\n",
       "      <th>COAD</th>\n",
       "      <td>0.023656</td>\n",
       "      <td>3.229716</td>\n",
       "      <td>0.604855</td>\n",
       "      <td>10.986945</td>\n",
       "      <td>10.049017</td>\n",
       "      <td>3.429887</td>\n",
       "      <td>5.446711</td>\n",
       "      <td>7.402187</td>\n",
       "      <td>3.609878</td>\n",
       "      <td>6.941342</td>\n",
       "      <td>...</td>\n",
       "      <td>2.135599</td>\n",
       "      <td>0.542036</td>\n",
       "      <td>1.793871</td>\n",
       "      <td>1.743895</td>\n",
       "      <td>3.730448</td>\n",
       "      <td>2.211389</td>\n",
       "      <td>0.086086</td>\n",
       "      <td>2.213276</td>\n",
       "      <td>0.079410</td>\n",
       "      <td>6.591047</td>\n",
       "    </tr>\n",
       "    <tr>\n",
       "      <th>KIRC</th>\n",
       "      <td>0.024021</td>\n",
       "      <td>2.406346</td>\n",
       "      <td>1.061975</td>\n",
       "      <td>10.262105</td>\n",
       "      <td>11.108574</td>\n",
       "      <td>1.698189</td>\n",
       "      <td>6.818693</td>\n",
       "      <td>7.711284</td>\n",
       "      <td>7.298725</td>\n",
       "      <td>7.722323</td>\n",
       "      <td>...</td>\n",
       "      <td>1.779912</td>\n",
       "      <td>0.629561</td>\n",
       "      <td>2.364947</td>\n",
       "      <td>1.860656</td>\n",
       "      <td>1.199761</td>\n",
       "      <td>3.195471</td>\n",
       "      <td>0.062368</td>\n",
       "      <td>2.594813</td>\n",
       "      <td>0.130352</td>\n",
       "      <td>6.488517</td>\n",
       "    </tr>\n",
       "    <tr>\n",
       "      <th>LUAD</th>\n",
       "      <td>0.038991</td>\n",
       "      <td>3.406770</td>\n",
       "      <td>0.660332</td>\n",
       "      <td>10.450657</td>\n",
       "      <td>10.442367</td>\n",
       "      <td>3.541062</td>\n",
       "      <td>7.289292</td>\n",
       "      <td>7.124441</td>\n",
       "      <td>6.386261</td>\n",
       "      <td>7.110556</td>\n",
       "      <td>...</td>\n",
       "      <td>2.252580</td>\n",
       "      <td>2.728280</td>\n",
       "      <td>2.704003</td>\n",
       "      <td>1.739974</td>\n",
       "      <td>2.343704</td>\n",
       "      <td>2.408065</td>\n",
       "      <td>0.063298</td>\n",
       "      <td>2.604498</td>\n",
       "      <td>0.045240</td>\n",
       "      <td>6.718543</td>\n",
       "    </tr>\n",
       "    <tr>\n",
       "      <th>PRAD</th>\n",
       "      <td>0.023201</td>\n",
       "      <td>3.317098</td>\n",
       "      <td>0.862301</td>\n",
       "      <td>10.204833</td>\n",
       "      <td>10.108690</td>\n",
       "      <td>1.742019</td>\n",
       "      <td>7.975125</td>\n",
       "      <td>8.531634</td>\n",
       "      <td>5.598799</td>\n",
       "      <td>7.425649</td>\n",
       "      <td>...</td>\n",
       "      <td>1.826892</td>\n",
       "      <td>4.805878</td>\n",
       "      <td>1.679176</td>\n",
       "      <td>2.603098</td>\n",
       "      <td>1.716788</td>\n",
       "      <td>3.744282</td>\n",
       "      <td>0.701483</td>\n",
       "      <td>4.115206</td>\n",
       "      <td>0.048637</td>\n",
       "      <td>7.071164</td>\n",
       "    </tr>\n",
       "  </tbody>\n",
       "</table>\n",
       "<p>5 rows × 20531 columns</p>\n",
       "</div>"
      ],
      "text/plain": [
       "         gene_0    gene_1   gene_10   gene_100  gene_1000  gene_10000  \\\n",
       "Class                                                                   \n",
       "BRCA   0.019142  2.652930  0.560744  10.638942  10.296747    3.259767   \n",
       "COAD   0.023656  3.229716  0.604855  10.986945  10.049017    3.429887   \n",
       "KIRC   0.024021  2.406346  1.061975  10.262105  11.108574    1.698189   \n",
       "LUAD   0.038991  3.406770  0.660332  10.450657  10.442367    3.541062   \n",
       "PRAD   0.023201  3.317098  0.862301  10.204833  10.108690    1.742019   \n",
       "\n",
       "       gene_10001  gene_10002  gene_10003  gene_10004  ...  gene_9990  \\\n",
       "Class                                                  ...              \n",
       "BRCA     7.373822    7.870140    7.503473    7.423994  ...   2.046371   \n",
       "COAD     5.446711    7.402187    3.609878    6.941342  ...   2.135599   \n",
       "KIRC     6.818693    7.711284    7.298725    7.722323  ...   1.779912   \n",
       "LUAD     7.289292    7.124441    6.386261    7.110556  ...   2.252580   \n",
       "PRAD     7.975125    8.531634    5.598799    7.425649  ...   1.826892   \n",
       "\n",
       "       gene_9991  gene_9992  gene_9993  gene_9994  gene_9995  gene_9996  \\\n",
       "Class                                                                     \n",
       "BRCA    5.459831   1.633581   2.194617   1.628420   2.438315   0.071885   \n",
       "COAD    0.542036   1.793871   1.743895   3.730448   2.211389   0.086086   \n",
       "KIRC    0.629561   2.364947   1.860656   1.199761   3.195471   0.062368   \n",
       "LUAD    2.728280   2.704003   1.739974   2.343704   2.408065   0.063298   \n",
       "PRAD    4.805878   1.679176   2.603098   1.716788   3.744282   0.701483   \n",
       "\n",
       "       gene_9997  gene_9998  gene_9999  \n",
       "Class                                   \n",
       "BRCA    1.955373   0.142907   6.964255  \n",
       "COAD    2.213276   0.079410   6.591047  \n",
       "KIRC    2.594813   0.130352   6.488517  \n",
       "LUAD    2.604498   0.045240   6.718543  \n",
       "PRAD    4.115206   0.048637   7.071164  \n",
       "\n",
       "[5 rows x 20531 columns]"
      ]
     },
     "execution_count": 12,
     "metadata": {},
     "output_type": "execute_result"
    }
   ],
   "source": [
    "# 2. Plot the merged dataset as a hierarchically-clustered heatmap.\n",
    "merged_data_heatmap = merged_data.copy()\n",
    "del merged_data_heatmap['Unnamed: 0']\n",
    "merged_data_heatmap = pd.pivot_table(merged_data_heatmap, index=['Class'])\n",
    "merged_data_heatmap"
   ]
  },
  {
   "cell_type": "code",
   "execution_count": 13,
   "id": "c3ce6870",
   "metadata": {},
   "outputs": [
    {
     "data": {
      "text/plain": [
       "(5, 20531)"
      ]
     },
     "execution_count": 13,
     "metadata": {},
     "output_type": "execute_result"
    }
   ],
   "source": [
    "merged_data_heatmap.shape\n"
   ]
  },
  {
   "cell_type": "code",
   "execution_count": 14,
   "id": "1d279a45",
   "metadata": {},
   "outputs": [
    {
     "data": {
      "text/plain": [
       "<AxesSubplot:>"
      ]
     },
     "execution_count": 14,
     "metadata": {},
     "output_type": "execute_result"
    },
    {
     "data": {
      "image/png": "[encoded data removed]",
      "text/plain": [
       "<Figure size 432x288 with 1 Axes>"
      ]
     },
     "metadata": {
      "needs_background": "light"
     },
     "output_type": "display_data"
    }
   ],
   "source": [
    "import matplotlib.pyplot as plt\n",
    "%matplotlib inline\n",
    "merged_data['Class'].value_counts().plot.bar()\n"
   ]
  },
  {
   "cell_type": "code",
   "execution_count": 15,
   "id": "1c0f7182",
   "metadata": {},
   "outputs": [
    {
     "data": {
      "text/html": [
       "<div>\n",
       "<style scoped>\n",
       "    .dataframe tbody tr th:only-of-type {\n",
       "        vertical-align: middle;\n",
       "    }\n",
       "\n",
       "    .dataframe tbody tr th {\n",
       "        vertical-align: top;\n",
       "    }\n",
       "\n",
       "    .dataframe thead th {\n",
       "        text-align: right;\n",
       "    }\n",
       "</style>\n",
       "<table border=\"1\" class=\"dataframe\">\n",
       "  <thead>\n",
       "    <tr style=\"text-align: right;\">\n",
       "      <th>Class</th>\n",
       "      <th>BRCA</th>\n",
       "      <th>COAD</th>\n",
       "      <th>KIRC</th>\n",
       "      <th>LUAD</th>\n",
       "      <th>PRAD</th>\n",
       "    </tr>\n",
       "  </thead>\n",
       "  <tbody>\n",
       "    <tr>\n",
       "      <th>gene_0</th>\n",
       "      <td>0.019142</td>\n",
       "      <td>0.023656</td>\n",
       "      <td>0.024021</td>\n",
       "      <td>0.038991</td>\n",
       "      <td>0.023201</td>\n",
       "    </tr>\n",
       "    <tr>\n",
       "      <th>gene_1</th>\n",
       "      <td>2.652930</td>\n",
       "      <td>3.229716</td>\n",
       "      <td>2.406346</td>\n",
       "      <td>3.406770</td>\n",
       "      <td>3.317098</td>\n",
       "    </tr>\n",
       "    <tr>\n",
       "      <th>gene_10</th>\n",
       "      <td>0.560744</td>\n",
       "      <td>0.604855</td>\n",
       "      <td>1.061975</td>\n",
       "      <td>0.660332</td>\n",
       "      <td>0.862301</td>\n",
       "    </tr>\n",
       "    <tr>\n",
       "      <th>gene_100</th>\n",
       "      <td>10.638942</td>\n",
       "      <td>10.986945</td>\n",
       "      <td>10.262105</td>\n",
       "      <td>10.450657</td>\n",
       "      <td>10.204833</td>\n",
       "    </tr>\n",
       "    <tr>\n",
       "      <th>gene_1000</th>\n",
       "      <td>10.296747</td>\n",
       "      <td>10.049017</td>\n",
       "      <td>11.108574</td>\n",
       "      <td>10.442367</td>\n",
       "      <td>10.108690</td>\n",
       "    </tr>\n",
       "  </tbody>\n",
       "</table>\n",
       "</div>"
      ],
      "text/plain": [
       "Class           BRCA       COAD       KIRC       LUAD       PRAD\n",
       "gene_0      0.019142   0.023656   0.024021   0.038991   0.023201\n",
       "gene_1      2.652930   3.229716   2.406346   3.406770   3.317098\n",
       "gene_10     0.560744   0.604855   1.061975   0.660332   0.862301\n",
       "gene_100   10.638942  10.986945  10.262105  10.450657  10.204833\n",
       "gene_1000  10.296747  10.049017  11.108574  10.442367  10.108690"
      ]
     },
     "execution_count": 15,
     "metadata": {},
     "output_type": "execute_result"
    }
   ],
   "source": [
    "\n",
    "merged_data_heatmap = merged_data_heatmap.T\n",
    "merged_data_heatmap.head(5)\n"
   ]
  },
  {
   "cell_type": "code",
   "execution_count": 16,
   "id": "8e255014",
   "metadata": {},
   "outputs": [
    {
     "data": {
      "text/plain": [
       "Index(['BRCA', 'COAD', 'KIRC', 'LUAD', 'PRAD'], dtype='object', name='Class')"
      ]
     },
     "execution_count": 16,
     "metadata": {},
     "output_type": "execute_result"
    }
   ],
   "source": [
    "numerical_cols = merged_data_heatmap.columns[0:5]\n",
    "numerical_cols\n"
   ]
  },
  {
   "cell_type": "code",
   "execution_count": 17,
   "id": "c3623cb6",
   "metadata": {},
   "outputs": [
    {
     "data": {
      "image/png": "[encoded data removed]",
      "text/plain": [
       "<Figure size 720x720 with 4 Axes>"
      ]
     },
     "metadata": {
      "needs_background": "light"
     },
     "output_type": "display_data"
    }
   ],
   "source": [
    "import seaborn as sns\n",
    "sns.clustermap(merged_data_heatmap[numerical_cols])\n",
    "plt.show()"
   ]
  },
  {
   "cell_type": "code",
   "execution_count": 18,
   "id": "81ccbb2a",
   "metadata": {},
   "outputs": [
    {
     "data": {
      "text/html": [
       "<div>\n",
       "<style scoped>\n",
       "    .dataframe tbody tr th:only-of-type {\n",
       "        vertical-align: middle;\n",
       "    }\n",
       "\n",
       "    .dataframe tbody tr th {\n",
       "        vertical-align: top;\n",
       "    }\n",
       "\n",
       "    .dataframe thead th {\n",
       "        text-align: right;\n",
       "    }\n",
       "</style>\n",
       "<table border=\"1\" class=\"dataframe\">\n",
       "  <thead>\n",
       "    <tr style=\"text-align: right;\">\n",
       "      <th></th>\n",
       "      <th>gene_18987</th>\n",
       "      <th>gene_19264</th>\n",
       "      <th>gene_8747</th>\n",
       "      <th>gene_4286</th>\n",
       "      <th>gene_19195</th>\n",
       "      <th>gene_5730</th>\n",
       "      <th>gene_16615</th>\n",
       "      <th>gene_2351</th>\n",
       "      <th>gene_11799</th>\n",
       "      <th>gene_1985</th>\n",
       "    </tr>\n",
       "  </thead>\n",
       "  <tbody>\n",
       "    <tr>\n",
       "      <th>0</th>\n",
       "      <td>11.562080</td>\n",
       "      <td>5.720549</td>\n",
       "      <td>1.010279</td>\n",
       "      <td>3.105561</td>\n",
       "      <td>9.790316</td>\n",
       "      <td>10.350840</td>\n",
       "      <td>1.225830</td>\n",
       "      <td>2.602077</td>\n",
       "      <td>1.334282</td>\n",
       "      <td>9.290904</td>\n",
       "    </tr>\n",
       "    <tr>\n",
       "      <th>1</th>\n",
       "      <td>11.720394</td>\n",
       "      <td>3.708540</td>\n",
       "      <td>0.000000</td>\n",
       "      <td>1.813607</td>\n",
       "      <td>10.095568</td>\n",
       "      <td>10.252240</td>\n",
       "      <td>0.326537</td>\n",
       "      <td>0.323658</td>\n",
       "      <td>0.000000</td>\n",
       "      <td>8.942010</td>\n",
       "    </tr>\n",
       "    <tr>\n",
       "      <th>2</th>\n",
       "      <td>9.719529</td>\n",
       "      <td>2.337254</td>\n",
       "      <td>0.000000</td>\n",
       "      <td>0.000000</td>\n",
       "      <td>10.513441</td>\n",
       "      <td>11.670639</td>\n",
       "      <td>0.000000</td>\n",
       "      <td>0.000000</td>\n",
       "      <td>0.000000</td>\n",
       "      <td>7.641286</td>\n",
       "    </tr>\n",
       "    <tr>\n",
       "      <th>3</th>\n",
       "      <td>10.290007</td>\n",
       "      <td>3.879686</td>\n",
       "      <td>0.000000</td>\n",
       "      <td>0.434882</td>\n",
       "      <td>9.431514</td>\n",
       "      <td>11.706323</td>\n",
       "      <td>0.570949</td>\n",
       "      <td>1.464093</td>\n",
       "      <td>0.434882</td>\n",
       "      <td>8.673394</td>\n",
       "    </tr>\n",
       "    <tr>\n",
       "      <th>4</th>\n",
       "      <td>9.162897</td>\n",
       "      <td>6.347829</td>\n",
       "      <td>0.000000</td>\n",
       "      <td>1.095654</td>\n",
       "      <td>9.480265</td>\n",
       "      <td>9.717956</td>\n",
       "      <td>0.000000</td>\n",
       "      <td>0.360982</td>\n",
       "      <td>0.649386</td>\n",
       "      <td>7.430494</td>\n",
       "    </tr>\n",
       "  </tbody>\n",
       "</table>\n",
       "</div>"
      ],
      "text/plain": [
       "   gene_18987  gene_19264  gene_8747  gene_4286  gene_19195  gene_5730  \\\n",
       "0   11.562080    5.720549   1.010279   3.105561    9.790316  10.350840   \n",
       "1   11.720394    3.708540   0.000000   1.813607   10.095568  10.252240   \n",
       "2    9.719529    2.337254   0.000000   0.000000   10.513441  11.670639   \n",
       "3   10.290007    3.879686   0.000000   0.434882    9.431514  11.706323   \n",
       "4    9.162897    6.347829   0.000000   1.095654    9.480265   9.717956   \n",
       "\n",
       "   gene_16615  gene_2351  gene_11799  gene_1985  \n",
       "0    1.225830   2.602077    1.334282   9.290904  \n",
       "1    0.326537   0.323658    0.000000   8.942010  \n",
       "2    0.000000   0.000000    0.000000   7.641286  \n",
       "3    0.570949   1.464093    0.434882   8.673394  \n",
       "4    0.000000   0.360982    0.649386   7.430494  "
      ]
     },
     "execution_count": 18,
     "metadata": {},
     "output_type": "execute_result"
    }
   ],
   "source": [
    "merged_data_heatmap_Random = merged_data.copy()\n",
    "del merged_data[\"Unnamed: 0\"]\n",
    "merged_data_heatmap_Random = merged_data_heatmap_Random.sample(n=10,axis='columns')\n",
    "merged_data_heatmap_Random.head()"
   ]
  },
  {
   "cell_type": "code",
   "execution_count": 19,
   "id": "d30358d0",
   "metadata": {},
   "outputs": [
    {
     "data": {
      "text/plain": [
       "Index(['gene_18987', 'gene_19264', 'gene_8747', 'gene_4286', 'gene_19195',\n",
       "       'gene_5730', 'gene_16615', 'gene_2351', 'gene_11799', 'gene_1985'],\n",
       "      dtype='object')"
      ]
     },
     "execution_count": 19,
     "metadata": {},
     "output_type": "execute_result"
    }
   ],
   "source": [
    "#Random state - can try to standardize\n",
    "numerical_cols_Random = merged_data_heatmap_Random.columns\n",
    "numerical_cols_Random"
   ]
  },
  {
   "cell_type": "code",
   "execution_count": 20,
   "id": "b52bda14",
   "metadata": {},
   "outputs": [
    {
     "data": {
      "image/png": "[encoded data removed]",
      "text/plain": [
       "<Figure size 720x720 with 4 Axes>"
      ]
     },
     "metadata": {
      "needs_background": "light"
     },
     "output_type": "display_data"
    }
   ],
   "source": [
    "sns.clustermap(merged_data_heatmap_Random[numerical_cols_Random])\n",
    "plt.show()"
   ]
  },
  {
   "cell_type": "code",
   "execution_count": 21,
   "id": "33346cd5",
   "metadata": {},
   "outputs": [
    {
     "name": "stdout",
     "output_type": "stream",
     "text": [
      "population_mean_KIRC: 6.465293405749222\n",
      "population_mean_COAD: 6.285868768799661\n",
      "population_mean_PRAD: 6.4551646695626985\n",
      "population_mean_BRCA: 6.408219146656366\n",
      "population_mean_LUAD: 6.529043938104935\n"
     ]
    }
   ],
   "source": [
    "# 3. Perform Null-hypothesis testing.\n",
    "\n",
    "from scipy.stats import ttest_1samp\n",
    "import numpy as np\n",
    "population_mean_KIRC = np.mean(merged_data_heatmap['KIRC'])\n",
    "population_mean_COAD = np.mean(merged_data_heatmap['COAD'])\n",
    "population_mean_PRAD = np.mean(merged_data_heatmap['PRAD'])\n",
    "population_mean_BRCA = np.mean(merged_data_heatmap['BRCA'])\n",
    "population_mean_LUAD = np.mean(merged_data_heatmap['LUAD'])\n",
    "print(\"population_mean_KIRC:\",population_mean_KIRC)\n",
    "print(\"population_mean_COAD:\", population_mean_COAD)\n",
    "print(\"population_mean_PRAD:\", population_mean_PRAD)\n",
    "print(\"population_mean_BRCA:\", population_mean_BRCA)\n",
    "print(\"population_mean_LUAD:\", population_mean_LUAD)\n"
   ]
  },
  {
   "cell_type": "code",
   "execution_count": 22,
   "id": "c7d3f978",
   "metadata": {},
   "outputs": [
    {
     "data": {
      "text/plain": [
       "(100, 5)"
      ]
     },
     "execution_count": 22,
     "metadata": {},
     "output_type": "execute_result"
    }
   ],
   "source": [
    "merged_data_heatmap_SAMPLE = merged_data_heatmap.sample(n=100)\n",
    "merged_data_heatmap_SAMPLE.shape\n"
   ]
  },
  {
   "cell_type": "code",
   "execution_count": 23,
   "id": "0b0d4ae2-bd9a-48c8-a4e2-0426560dfeb1",
   "metadata": {},
   "outputs": [
    {
     "data": {
      "text/html": [
       "<div>\n",
       "<style scoped>\n",
       "    .dataframe tbody tr th:only-of-type {\n",
       "        vertical-align: middle;\n",
       "    }\n",
       "\n",
       "    .dataframe tbody tr th {\n",
       "        vertical-align: top;\n",
       "    }\n",
       "\n",
       "    .dataframe thead th {\n",
       "        text-align: right;\n",
       "    }\n",
       "</style>\n",
       "<table border=\"1\" class=\"dataframe\">\n",
       "  <thead>\n",
       "    <tr style=\"text-align: right;\">\n",
       "      <th>Class</th>\n",
       "      <th>BRCA</th>\n",
       "      <th>COAD</th>\n",
       "      <th>KIRC</th>\n",
       "      <th>LUAD</th>\n",
       "      <th>PRAD</th>\n",
       "    </tr>\n",
       "  </thead>\n",
       "  <tbody>\n",
       "    <tr>\n",
       "      <th>gene_8299</th>\n",
       "      <td>8.697423</td>\n",
       "      <td>8.596390</td>\n",
       "      <td>8.170838</td>\n",
       "      <td>8.934356</td>\n",
       "      <td>9.049601</td>\n",
       "    </tr>\n",
       "    <tr>\n",
       "      <th>gene_17543</th>\n",
       "      <td>10.888833</td>\n",
       "      <td>11.233675</td>\n",
       "      <td>10.597517</td>\n",
       "      <td>10.898162</td>\n",
       "      <td>11.242153</td>\n",
       "    </tr>\n",
       "    <tr>\n",
       "      <th>gene_5885</th>\n",
       "      <td>7.556231</td>\n",
       "      <td>6.339087</td>\n",
       "      <td>8.089006</td>\n",
       "      <td>7.586288</td>\n",
       "      <td>7.796885</td>\n",
       "    </tr>\n",
       "    <tr>\n",
       "      <th>gene_1149</th>\n",
       "      <td>0.412582</td>\n",
       "      <td>1.001328</td>\n",
       "      <td>1.260277</td>\n",
       "      <td>0.348975</td>\n",
       "      <td>6.003939</td>\n",
       "    </tr>\n",
       "    <tr>\n",
       "      <th>gene_8675</th>\n",
       "      <td>11.018209</td>\n",
       "      <td>10.439684</td>\n",
       "      <td>10.424812</td>\n",
       "      <td>10.863379</td>\n",
       "      <td>10.614295</td>\n",
       "    </tr>\n",
       "  </tbody>\n",
       "</table>\n",
       "</div>"
      ],
      "text/plain": [
       "Class            BRCA       COAD       KIRC       LUAD       PRAD\n",
       "gene_8299    8.697423   8.596390   8.170838   8.934356   9.049601\n",
       "gene_17543  10.888833  11.233675  10.597517  10.898162  11.242153\n",
       "gene_5885    7.556231   6.339087   8.089006   7.586288   7.796885\n",
       "gene_1149    0.412582   1.001328   1.260277   0.348975   6.003939\n",
       "gene_8675   11.018209  10.439684  10.424812  10.863379  10.614295"
      ]
     },
     "execution_count": 23,
     "metadata": {},
     "output_type": "execute_result"
    }
   ],
   "source": [
    "merged_data_heatmap_SAMPLE.head()\n"
   ]
  },
  {
   "cell_type": "code",
   "execution_count": 24,
   "id": "62fb7268-8401-4f33-a9cc-6b9205befbf2",
   "metadata": {},
   "outputs": [
    {
     "name": "stdout",
     "output_type": "stream",
     "text": [
      "sample_mean_KIRC: 6.589098116459729\n",
      "sample_mean_COAD: 6.495057511951266\n",
      "sample_mean_PRAD: 6.450044963333004\n",
      "sample_mean_BRCA: 6.432357053633677\n",
      "sample_mean_LUAD: 6.515709673646907\n"
     ]
    }
   ],
   "source": [
    "\n",
    "sample_mean_KIRC = np.mean(merged_data_heatmap_SAMPLE['KIRC'])\n",
    "sample_mean_COAD = np.mean(merged_data_heatmap_SAMPLE['COAD'])\n",
    "sample_mean_PRAD = np.mean(merged_data_heatmap_SAMPLE['PRAD'])\n",
    "sample_mean_BRCA = np.mean(merged_data_heatmap_SAMPLE['BRCA'])\n",
    "sample_mean_LUAD = np.mean(merged_data_heatmap_SAMPLE['LUAD'])\n",
    "print(\"sample_mean_KIRC:\",sample_mean_KIRC)\n",
    "print(\"sample_mean_COAD:\", sample_mean_COAD)\n",
    "print(\"sample_mean_PRAD:\", sample_mean_PRAD)\n",
    "print(\"sample_mean_BRCA:\", sample_mean_BRCA)\n",
    "print(\"sample_mean_LUAD:\", sample_mean_LUAD)"
   ]
  },
  {
   "cell_type": "code",
   "execution_count": 25,
   "id": "0a3b04c3-4f67-4dcd-a1dd-5b5922888c7d",
   "metadata": {},
   "outputs": [
    {
     "name": "stdout",
     "output_type": "stream",
     "text": [
      "p-values-KIRC: 0.76\n",
      "p-values-COAD: 0.59\n",
      "p-values-PRAD: 0.99\n",
      "p-values-BRCA: 0.95\n",
      "p-values-LUAD: 0.97\n"
     ]
    }
   ],
   "source": [
    "\n",
    "tset_KIRC, pval_KIRC = ttest_1samp(merged_data_heatmap_SAMPLE['KIRC'], population_mean_KIRC)\n",
    "tset_COAD, pval_COAD = ttest_1samp(merged_data_heatmap_SAMPLE['COAD'], population_mean_COAD)\n",
    "tset_PRAD, pval_PRAD = ttest_1samp(merged_data_heatmap_SAMPLE['PRAD'], population_mean_PRAD)\n",
    "tset_BRCA, pval_BRCA = ttest_1samp(merged_data_heatmap_SAMPLE['BRCA'], population_mean_BRCA)\n",
    "tset_LUAD, pval_LUAD = ttest_1samp(merged_data_heatmap_SAMPLE['LUAD'], population_mean_LUAD)\n",
    "print(\"p-values-KIRC:\",pval_KIRC.round(2))\n",
    "print(\"p-values-COAD:\",pval_COAD.round(2))\n",
    "print(\"p-values-PRAD:\",pval_PRAD.round(2))\n",
    "print(\"p-values-BRCA:\",pval_BRCA.round(2))\n",
    "print(\"p-values-LUAD:\",pval_LUAD.round(2))"
   ]
  },
  {
   "cell_type": "code",
   "execution_count": 26,
   "id": "a3ec3b5d-ac69-4abc-8ab2-23eb12baa8d0",
   "metadata": {},
   "outputs": [
    {
     "name": "stdout",
     "output_type": "stream",
     "text": [
      "KIRC - we are accepting null hypothesis\n",
      "COAD - we are accepting null hypothesis\n",
      "PRAD - we are accepting null hypothesis\n",
      "BRCA - we are accepting null hypothesis\n",
      "LUAD - we are accepting null hypothesis\n"
     ]
    }
   ],
   "source": [
    "if pval_KIRC < 0.05: # alpha value is 0.05 or 5%\n",
    " print(\"KIRC - we are rejecting null hypothesis\")\n",
    "else:\n",
    " print(\"KIRC - we are accepting null hypothesis\")\n",
    "if pval_COAD < 0.05: # alpha value is 0.05 or 5%\n",
    " print(\"COAD - we are rejecting null hypothesis\")\n",
    "else:\n",
    " print(\"COAD - we are accepting null hypothesis\")\n",
    "if pval_PRAD < 0.05: # alpha value is 0.05 or 5%\n",
    " print(\"PRAD - we are rejecting null hypothesis\")\n",
    "else:\n",
    " print(\"PRAD - we are accepting null hypothesis\")\n",
    "if pval_BRCA < 0.05: # alpha value is 0.05 or 5%\n",
    " print(\"BRCA - we are rejecting null hypothesis\")\n",
    "else:\n",
    " print(\"BRCA - we are accepting null hypothesis\")\n",
    "if pval_LUAD < 0.05: # alpha value is 0.05 or 5%\n",
    " print(\"LUAD - we are rejecting null hypothesis\")\n",
    "else:\n",
    " print(\"LUAD - we are accepting null hypothesis\")"
   ]
  },
  {
   "cell_type": "code",
   "execution_count": 27,
   "id": "ebbc588d-9962-4af2-b815-eea091ca5062",
   "metadata": {},
   "outputs": [],
   "source": [
    "merged_data.to_csv(\"merged_data.csv\")\n",
    "merged_data_heatmap.to_csv(\"merged_data_heatmap.csv\")\n",
    "merged_data_heatmap_Random.to_csv(\"merged_data_heatmap_Random.csv\")\n"
   ]
  },
  {
   "cell_type": "code",
   "execution_count": 28,
   "id": "1f14e143-239a-4405-a8f3-6d06a47fe6ce",
   "metadata": {},
   "outputs": [
    {
     "data": {
      "text/html": [
       "<div>\n",
       "<style scoped>\n",
       "    .dataframe tbody tr th:only-of-type {\n",
       "        vertical-align: middle;\n",
       "    }\n",
       "\n",
       "    .dataframe tbody tr th {\n",
       "        vertical-align: top;\n",
       "    }\n",
       "\n",
       "    .dataframe thead th {\n",
       "        text-align: right;\n",
       "    }\n",
       "</style>\n",
       "<table border=\"1\" class=\"dataframe\">\n",
       "  <thead>\n",
       "    <tr style=\"text-align: right;\">\n",
       "      <th></th>\n",
       "      <th>Class</th>\n",
       "      <th>gene_0</th>\n",
       "      <th>gene_1</th>\n",
       "      <th>gene_2</th>\n",
       "      <th>gene_3</th>\n",
       "      <th>gene_4</th>\n",
       "      <th>gene_5</th>\n",
       "      <th>gene_6</th>\n",
       "      <th>gene_7</th>\n",
       "      <th>gene_8</th>\n",
       "      <th>...</th>\n",
       "      <th>gene_20521</th>\n",
       "      <th>gene_20522</th>\n",
       "      <th>gene_20523</th>\n",
       "      <th>gene_20524</th>\n",
       "      <th>gene_20525</th>\n",
       "      <th>gene_20526</th>\n",
       "      <th>gene_20527</th>\n",
       "      <th>gene_20528</th>\n",
       "      <th>gene_20529</th>\n",
       "      <th>gene_20530</th>\n",
       "    </tr>\n",
       "  </thead>\n",
       "  <tbody>\n",
       "    <tr>\n",
       "      <th>0</th>\n",
       "      <td>PRAD</td>\n",
       "      <td>0.0</td>\n",
       "      <td>2.017209</td>\n",
       "      <td>3.265527</td>\n",
       "      <td>5.478487</td>\n",
       "      <td>10.431999</td>\n",
       "      <td>0.0</td>\n",
       "      <td>7.175175</td>\n",
       "      <td>0.591871</td>\n",
       "      <td>0.0</td>\n",
       "      <td>...</td>\n",
       "      <td>4.926711</td>\n",
       "      <td>8.210257</td>\n",
       "      <td>9.723516</td>\n",
       "      <td>7.220030</td>\n",
       "      <td>9.119813</td>\n",
       "      <td>12.003135</td>\n",
       "      <td>9.650743</td>\n",
       "      <td>8.921326</td>\n",
       "      <td>5.286759</td>\n",
       "      <td>0.0</td>\n",
       "    </tr>\n",
       "    <tr>\n",
       "      <th>1</th>\n",
       "      <td>LUAD</td>\n",
       "      <td>0.0</td>\n",
       "      <td>0.592732</td>\n",
       "      <td>1.588421</td>\n",
       "      <td>7.586157</td>\n",
       "      <td>9.623011</td>\n",
       "      <td>0.0</td>\n",
       "      <td>6.816049</td>\n",
       "      <td>0.000000</td>\n",
       "      <td>0.0</td>\n",
       "      <td>...</td>\n",
       "      <td>4.593372</td>\n",
       "      <td>7.323865</td>\n",
       "      <td>9.740931</td>\n",
       "      <td>6.256586</td>\n",
       "      <td>8.381612</td>\n",
       "      <td>12.674552</td>\n",
       "      <td>10.517059</td>\n",
       "      <td>9.397854</td>\n",
       "      <td>2.094168</td>\n",
       "      <td>0.0</td>\n",
       "    </tr>\n",
       "    <tr>\n",
       "      <th>2</th>\n",
       "      <td>PRAD</td>\n",
       "      <td>0.0</td>\n",
       "      <td>3.511759</td>\n",
       "      <td>4.327199</td>\n",
       "      <td>6.881787</td>\n",
       "      <td>9.870730</td>\n",
       "      <td>0.0</td>\n",
       "      <td>6.972130</td>\n",
       "      <td>0.452595</td>\n",
       "      <td>0.0</td>\n",
       "      <td>...</td>\n",
       "      <td>5.125213</td>\n",
       "      <td>8.127123</td>\n",
       "      <td>10.908640</td>\n",
       "      <td>5.401607</td>\n",
       "      <td>9.911597</td>\n",
       "      <td>9.045255</td>\n",
       "      <td>9.788359</td>\n",
       "      <td>10.090470</td>\n",
       "      <td>1.683023</td>\n",
       "      <td>0.0</td>\n",
       "    </tr>\n",
       "    <tr>\n",
       "      <th>3</th>\n",
       "      <td>PRAD</td>\n",
       "      <td>0.0</td>\n",
       "      <td>3.663618</td>\n",
       "      <td>4.507649</td>\n",
       "      <td>6.659068</td>\n",
       "      <td>10.196184</td>\n",
       "      <td>0.0</td>\n",
       "      <td>7.843375</td>\n",
       "      <td>0.434882</td>\n",
       "      <td>0.0</td>\n",
       "      <td>...</td>\n",
       "      <td>6.076566</td>\n",
       "      <td>8.792959</td>\n",
       "      <td>10.141520</td>\n",
       "      <td>8.942805</td>\n",
       "      <td>9.601208</td>\n",
       "      <td>11.392682</td>\n",
       "      <td>9.694814</td>\n",
       "      <td>9.684365</td>\n",
       "      <td>3.292001</td>\n",
       "      <td>0.0</td>\n",
       "    </tr>\n",
       "    <tr>\n",
       "      <th>4</th>\n",
       "      <td>BRCA</td>\n",
       "      <td>0.0</td>\n",
       "      <td>2.655741</td>\n",
       "      <td>2.821547</td>\n",
       "      <td>6.539454</td>\n",
       "      <td>9.738265</td>\n",
       "      <td>0.0</td>\n",
       "      <td>6.566967</td>\n",
       "      <td>0.360982</td>\n",
       "      <td>0.0</td>\n",
       "      <td>...</td>\n",
       "      <td>5.996032</td>\n",
       "      <td>8.891425</td>\n",
       "      <td>10.373790</td>\n",
       "      <td>7.181162</td>\n",
       "      <td>9.846910</td>\n",
       "      <td>11.922439</td>\n",
       "      <td>9.217749</td>\n",
       "      <td>9.461191</td>\n",
       "      <td>5.110372</td>\n",
       "      <td>0.0</td>\n",
       "    </tr>\n",
       "  </tbody>\n",
       "</table>\n",
       "<p>5 rows × 20532 columns</p>\n",
       "</div>"
      ],
      "text/plain": [
       "  Class  gene_0    gene_1    gene_2    gene_3     gene_4  gene_5    gene_6  \\\n",
       "0  PRAD     0.0  2.017209  3.265527  5.478487  10.431999     0.0  7.175175   \n",
       "1  LUAD     0.0  0.592732  1.588421  7.586157   9.623011     0.0  6.816049   \n",
       "2  PRAD     0.0  3.511759  4.327199  6.881787   9.870730     0.0  6.972130   \n",
       "3  PRAD     0.0  3.663618  4.507649  6.659068  10.196184     0.0  7.843375   \n",
       "4  BRCA     0.0  2.655741  2.821547  6.539454   9.738265     0.0  6.566967   \n",
       "\n",
       "     gene_7  gene_8  ...  gene_20521  gene_20522  gene_20523  gene_20524  \\\n",
       "0  0.591871     0.0  ...    4.926711    8.210257    9.723516    7.220030   \n",
       "1  0.000000     0.0  ...    4.593372    7.323865    9.740931    6.256586   \n",
       "2  0.452595     0.0  ...    5.125213    8.127123   10.908640    5.401607   \n",
       "3  0.434882     0.0  ...    6.076566    8.792959   10.141520    8.942805   \n",
       "4  0.360982     0.0  ...    5.996032    8.891425   10.373790    7.181162   \n",
       "\n",
       "   gene_20525  gene_20526  gene_20527  gene_20528  gene_20529  gene_20530  \n",
       "0    9.119813   12.003135    9.650743    8.921326    5.286759         0.0  \n",
       "1    8.381612   12.674552   10.517059    9.397854    2.094168         0.0  \n",
       "2    9.911597    9.045255    9.788359   10.090470    1.683023         0.0  \n",
       "3    9.601208   11.392682    9.694814    9.684365    3.292001         0.0  \n",
       "4    9.846910   11.922439    9.217749    9.461191    5.110372         0.0  \n",
       "\n",
       "[5 rows x 20532 columns]"
      ]
     },
     "execution_count": 28,
     "metadata": {},
     "output_type": "execute_result"
    }
   ],
   "source": [
    "# Dimensionality Reduction\n",
    "# Principal Component Analysis\n",
    "\n",
    "merged_data.head(5)"
   ]
  },
  {
   "cell_type": "code",
   "execution_count": 29,
   "id": "af46d401-f714-431f-9a60-75414bd9d041",
   "metadata": {},
   "outputs": [
    {
     "name": "stdout",
     "output_type": "stream",
     "text": [
      "X-Shape : (297, 20530)\n",
      "y-Shape : (297,)\n"
     ]
    }
   ],
   "source": [
    "from sklearn import preprocessing\n",
    "Label_encoder = preprocessing.LabelEncoder()\n",
    "y = Label_encoder.fit_transform(merged_data['Class'])\n",
    "X = merged_data[merged_data.columns[2:20533]]\n",
    "print(\"X-Shape :\", X.shape)\n",
    "print(\"y-Shape :\", y.shape)"
   ]
  },
  {
   "cell_type": "code",
   "execution_count": 30,
   "id": "b9ed0e4a-278c-4615-85f6-322ada97239c",
   "metadata": {},
   "outputs": [
    {
     "name": "stdout",
     "output_type": "stream",
     "text": [
      "{0, 1, 2, 3, 4}\n"
     ]
    }
   ],
   "source": [
    "print(set(y))"
   ]
  },
  {
   "cell_type": "code",
   "execution_count": 31,
   "id": "f2d03541-cfd9-4457-b5b6-ab68c2b1cfe7",
   "metadata": {},
   "outputs": [],
   "source": [
    "from sklearn.preprocessing import StandardScaler\n",
    "sc = StandardScaler()\n",
    "X = sc.fit_transform(X)"
   ]
  },
  {
   "cell_type": "code",
   "execution_count": 32,
   "id": "21b463ae-d938-4ed7-ba70-66518e00814b",
   "metadata": {},
   "outputs": [
    {
     "ename": "ValueError",
     "evalue": "Input contains NaN, infinity or a value too large for dtype('float64').",
     "output_type": "error",
     "traceback": [
      "\u001b[0;31m---------------------------------------------------------------------------\u001b[0m",
      "\u001b[0;31mValueError\u001b[0m                                Traceback (most recent call last)",
      "\u001b[0;32m<ipython-input-32-d772ac98877f>\u001b[0m in \u001b[0;36m<module>\u001b[0;34m\u001b[0m\n\u001b[1;32m      1\u001b[0m \u001b[0;32mfrom\u001b[0m \u001b[0msklearn\u001b[0m\u001b[0;34m.\u001b[0m\u001b[0mdecomposition\u001b[0m \u001b[0;32mimport\u001b[0m \u001b[0mPCA\u001b[0m\u001b[0;34m\u001b[0m\u001b[0;34m\u001b[0m\u001b[0m\n\u001b[1;32m      2\u001b[0m \u001b[0mpca\u001b[0m \u001b[0;34m=\u001b[0m \u001b[0mPCA\u001b[0m\u001b[0;34m(\u001b[0m\u001b[0;34m)\u001b[0m\u001b[0;34m\u001b[0m\u001b[0;34m\u001b[0m\u001b[0m\n\u001b[0;32m----> 3\u001b[0;31m \u001b[0mX_PCA\u001b[0m \u001b[0;34m=\u001b[0m \u001b[0mpca\u001b[0m\u001b[0;34m.\u001b[0m\u001b[0mfit_transform\u001b[0m\u001b[0;34m(\u001b[0m\u001b[0mX\u001b[0m\u001b[0;34m)\u001b[0m\u001b[0;34m\u001b[0m\u001b[0;34m\u001b[0m\u001b[0m\n\u001b[0m\u001b[1;32m      4\u001b[0m \u001b[0mprint\u001b[0m\u001b[0;34m(\u001b[0m\u001b[0;34m\"Input X dataset shape before PCA being applied :\"\u001b[0m\u001b[0;34m,\u001b[0m \u001b[0mX\u001b[0m\u001b[0;34m.\u001b[0m\u001b[0mshape\u001b[0m\u001b[0;34m)\u001b[0m\u001b[0;34m\u001b[0m\u001b[0;34m\u001b[0m\u001b[0m\n\u001b[1;32m      5\u001b[0m \u001b[0mprint\u001b[0m\u001b[0;34m(\u001b[0m\u001b[0;34m\"Output X dataset shape after PCA being applied:\"\u001b[0m\u001b[0;34m,\u001b[0m\u001b[0mX_PCA\u001b[0m\u001b[0;34m.\u001b[0m\u001b[0mshape\u001b[0m\u001b[0;34m)\u001b[0m\u001b[0;34m\u001b[0m\u001b[0;34m\u001b[0m\u001b[0m\n",
      "\u001b[0;32m/usr/local/lib/python3.7/site-packages/sklearn/decomposition/_pca.py\u001b[0m in \u001b[0;36mfit_transform\u001b[0;34m(self, X, y)\u001b[0m\n\u001b[1;32m    405\u001b[0m         \u001b[0mC\u001b[0m\u001b[0;34m-\u001b[0m\u001b[0mordered\u001b[0m \u001b[0marray\u001b[0m\u001b[0;34m,\u001b[0m \u001b[0muse\u001b[0m \u001b[0;34m'np.ascontiguousarray'\u001b[0m\u001b[0;34m.\u001b[0m\u001b[0;34m\u001b[0m\u001b[0;34m\u001b[0m\u001b[0m\n\u001b[1;32m    406\u001b[0m         \"\"\"\n\u001b[0;32m--> 407\u001b[0;31m         \u001b[0mU\u001b[0m\u001b[0;34m,\u001b[0m \u001b[0mS\u001b[0m\u001b[0;34m,\u001b[0m \u001b[0mVt\u001b[0m \u001b[0;34m=\u001b[0m \u001b[0mself\u001b[0m\u001b[0;34m.\u001b[0m\u001b[0m_fit\u001b[0m\u001b[0;34m(\u001b[0m\u001b[0mX\u001b[0m\u001b[0;34m)\u001b[0m\u001b[0;34m\u001b[0m\u001b[0;34m\u001b[0m\u001b[0m\n\u001b[0m\u001b[1;32m    408\u001b[0m         \u001b[0mU\u001b[0m \u001b[0;34m=\u001b[0m \u001b[0mU\u001b[0m\u001b[0;34m[\u001b[0m\u001b[0;34m:\u001b[0m\u001b[0;34m,\u001b[0m \u001b[0;34m:\u001b[0m \u001b[0mself\u001b[0m\u001b[0;34m.\u001b[0m\u001b[0mn_components_\u001b[0m\u001b[0;34m]\u001b[0m\u001b[0;34m\u001b[0m\u001b[0;34m\u001b[0m\u001b[0m\n\u001b[1;32m    409\u001b[0m \u001b[0;34m\u001b[0m\u001b[0m\n",
      "\u001b[0;32m/usr/local/lib/python3.7/site-packages/sklearn/decomposition/_pca.py\u001b[0m in \u001b[0;36m_fit\u001b[0;34m(self, X)\u001b[0m\n\u001b[1;32m    429\u001b[0m \u001b[0;34m\u001b[0m\u001b[0m\n\u001b[1;32m    430\u001b[0m         X = self._validate_data(\n\u001b[0;32m--> 431\u001b[0;31m             \u001b[0mX\u001b[0m\u001b[0;34m,\u001b[0m \u001b[0mdtype\u001b[0m\u001b[0;34m=\u001b[0m\u001b[0;34m[\u001b[0m\u001b[0mnp\u001b[0m\u001b[0;34m.\u001b[0m\u001b[0mfloat64\u001b[0m\u001b[0;34m,\u001b[0m \u001b[0mnp\u001b[0m\u001b[0;34m.\u001b[0m\u001b[0mfloat32\u001b[0m\u001b[0;34m]\u001b[0m\u001b[0;34m,\u001b[0m \u001b[0mensure_2d\u001b[0m\u001b[0;34m=\u001b[0m\u001b[0;32mTrue\u001b[0m\u001b[0;34m,\u001b[0m \u001b[0mcopy\u001b[0m\u001b[0;34m=\u001b[0m\u001b[0mself\u001b[0m\u001b[0;34m.\u001b[0m\u001b[0mcopy\u001b[0m\u001b[0;34m\u001b[0m\u001b[0;34m\u001b[0m\u001b[0m\n\u001b[0m\u001b[1;32m    432\u001b[0m         )\n\u001b[1;32m    433\u001b[0m \u001b[0;34m\u001b[0m\u001b[0m\n",
      "\u001b[0;32m/usr/local/lib/python3.7/site-packages/sklearn/base.py\u001b[0m in \u001b[0;36m_validate_data\u001b[0;34m(self, X, y, reset, validate_separately, **check_params)\u001b[0m\n\u001b[1;32m    564\u001b[0m             \u001b[0;32mraise\u001b[0m \u001b[0mValueError\u001b[0m\u001b[0;34m(\u001b[0m\u001b[0;34m\"Validation should be done on X, y or both.\"\u001b[0m\u001b[0;34m)\u001b[0m\u001b[0;34m\u001b[0m\u001b[0;34m\u001b[0m\u001b[0m\n\u001b[1;32m    565\u001b[0m         \u001b[0;32melif\u001b[0m \u001b[0;32mnot\u001b[0m \u001b[0mno_val_X\u001b[0m \u001b[0;32mand\u001b[0m \u001b[0mno_val_y\u001b[0m\u001b[0;34m:\u001b[0m\u001b[0;34m\u001b[0m\u001b[0;34m\u001b[0m\u001b[0m\n\u001b[0;32m--> 566\u001b[0;31m             \u001b[0mX\u001b[0m \u001b[0;34m=\u001b[0m \u001b[0mcheck_array\u001b[0m\u001b[0;34m(\u001b[0m\u001b[0mX\u001b[0m\u001b[0;34m,\u001b[0m \u001b[0;34m**\u001b[0m\u001b[0mcheck_params\u001b[0m\u001b[0;34m)\u001b[0m\u001b[0;34m\u001b[0m\u001b[0;34m\u001b[0m\u001b[0m\n\u001b[0m\u001b[1;32m    567\u001b[0m             \u001b[0mout\u001b[0m \u001b[0;34m=\u001b[0m \u001b[0mX\u001b[0m\u001b[0;34m\u001b[0m\u001b[0;34m\u001b[0m\u001b[0m\n\u001b[1;32m    568\u001b[0m         \u001b[0;32melif\u001b[0m \u001b[0mno_val_X\u001b[0m \u001b[0;32mand\u001b[0m \u001b[0;32mnot\u001b[0m \u001b[0mno_val_y\u001b[0m\u001b[0;34m:\u001b[0m\u001b[0;34m\u001b[0m\u001b[0;34m\u001b[0m\u001b[0m\n",
      "\u001b[0;32m/usr/local/lib/python3.7/site-packages/sklearn/utils/validation.py\u001b[0m in \u001b[0;36mcheck_array\u001b[0;34m(array, accept_sparse, accept_large_sparse, dtype, order, copy, force_all_finite, ensure_2d, allow_nd, ensure_min_samples, ensure_min_features, estimator)\u001b[0m\n\u001b[1;32m    798\u001b[0m \u001b[0;34m\u001b[0m\u001b[0m\n\u001b[1;32m    799\u001b[0m         \u001b[0;32mif\u001b[0m \u001b[0mforce_all_finite\u001b[0m\u001b[0;34m:\u001b[0m\u001b[0;34m\u001b[0m\u001b[0;34m\u001b[0m\u001b[0m\n\u001b[0;32m--> 800\u001b[0;31m             \u001b[0m_assert_all_finite\u001b[0m\u001b[0;34m(\u001b[0m\u001b[0marray\u001b[0m\u001b[0;34m,\u001b[0m \u001b[0mallow_nan\u001b[0m\u001b[0;34m=\u001b[0m\u001b[0mforce_all_finite\u001b[0m \u001b[0;34m==\u001b[0m \u001b[0;34m\"allow-nan\"\u001b[0m\u001b[0;34m)\u001b[0m\u001b[0;34m\u001b[0m\u001b[0;34m\u001b[0m\u001b[0m\n\u001b[0m\u001b[1;32m    801\u001b[0m \u001b[0;34m\u001b[0m\u001b[0m\n\u001b[1;32m    802\u001b[0m     \u001b[0;32mif\u001b[0m \u001b[0mensure_min_samples\u001b[0m \u001b[0;34m>\u001b[0m \u001b[0;36m0\u001b[0m\u001b[0;34m:\u001b[0m\u001b[0;34m\u001b[0m\u001b[0;34m\u001b[0m\u001b[0m\n",
      "\u001b[0;32m/usr/local/lib/python3.7/site-packages/sklearn/utils/validation.py\u001b[0m in \u001b[0;36m_assert_all_finite\u001b[0;34m(X, allow_nan, msg_dtype)\u001b[0m\n\u001b[1;32m    114\u001b[0m             raise ValueError(\n\u001b[1;32m    115\u001b[0m                 msg_err.format(\n\u001b[0;32m--> 116\u001b[0;31m                     \u001b[0mtype_err\u001b[0m\u001b[0;34m,\u001b[0m \u001b[0mmsg_dtype\u001b[0m \u001b[0;32mif\u001b[0m \u001b[0mmsg_dtype\u001b[0m \u001b[0;32mis\u001b[0m \u001b[0;32mnot\u001b[0m \u001b[0;32mNone\u001b[0m \u001b[0;32melse\u001b[0m \u001b[0mX\u001b[0m\u001b[0;34m.\u001b[0m\u001b[0mdtype\u001b[0m\u001b[0;34m\u001b[0m\u001b[0;34m\u001b[0m\u001b[0m\n\u001b[0m\u001b[1;32m    117\u001b[0m                 )\n\u001b[1;32m    118\u001b[0m             )\n",
      "\u001b[0;31mValueError\u001b[0m: Input contains NaN, infinity or a value too large for dtype('float64')."
     ]
    }
   ],
   "source": [
    "\n",
    "from sklearn.decomposition import PCA\n",
    "pca = PCA()\n",
    "X_PCA = pca.fit_transform(X)\n",
    "print(\"Input X dataset shape before PCA being applied :\", X.shape)\n",
    "print(\"Output X dataset shape after PCA being applied:\",X_PCA.shape)"
   ]
  },
  {
   "cell_type": "code",
   "execution_count": null,
   "id": "dbce19b7-3665-4515-9996-4d3450c546c5",
   "metadata": {},
   "outputs": [],
   "source": [
    "X_PCA_DF = pd.DataFrame(X_PCA)\n",
    "X_PCA_DF.to_csv(\"X_PCA_DF.csv\")"
   ]
  },
  {
   "cell_type": "code",
   "execution_count": null,
   "id": "a839213d-65db-4286-ad2d-9ee341461722",
   "metadata": {},
   "outputs": [],
   "source": [
    "# Linear Discriminant Analysis\n",
    "\n",
    "from sklearn.discriminant_analysis import LinearDiscriminantAnalysis\n",
    "lda = LinearDiscriminantAnalysis()"
   ]
  },
  {
   "cell_type": "code",
   "execution_count": null,
   "id": "5b53dfee-71bc-4f6f-901c-df2901cb922d",
   "metadata": {},
   "outputs": [],
   "source": [
    "X_LDA = lda.fit_transform(X,y)\n",
    "print(\"Input X dataset shape before LDA being applied :\", X.shape)\n",
    "print(\"Output X dataset shape after LDA being applied:\",X_LDA.shape)"
   ]
  },
  {
   "cell_type": "code",
   "execution_count": null,
   "id": "09b62cfb-7b27-4eb9-a107-a820ba7bd56a",
   "metadata": {},
   "outputs": [],
   "source": [
    "X_LDA_DF = pd.DataFrame(X_LDA)\n",
    "X_LDA_DF.to_csv(\"X_LDA_DF.csv\")"
   ]
  },
  {
   "cell_type": "code",
   "execution_count": null,
   "id": "a480ec31-ffb0-4531-8aec-754d2c1e5a19",
   "metadata": {},
   "outputs": [],
   "source": [
    "# T-Distributed Stochastic Neighbouring Entities\n",
    "from sklearn.manifold import TSNE\n",
    "tsne = TSNE(verbose=1, random_state=123)\n",
    "X_TSNE = tsne.fit_transform(X)\n"
   ]
  },
  {
   "cell_type": "code",
   "execution_count": null,
   "id": "01a431ed-9a77-4fc0-9ef4-9da1035fa625",
   "metadata": {},
   "outputs": [],
   "source": [
    "print(\"Input X dataset shape before TSNE being applied :\", X.shape)\n",
    "print(\"Output X dataset shape after TSNE being applied:\",X_TSNE.shape)"
   ]
  },
  {
   "cell_type": "code",
   "execution_count": null,
   "id": "f3fc786b-093c-47e6-897d-7c710404d6bb",
   "metadata": {},
   "outputs": [],
   "source": [
    "X_TSNE_DF = pd.DataFrame(X_TSNE)\n",
    "X_TSNE_DF.to_csv(\"X_TSNE_DF.csv\")"
   ]
  },
  {
   "cell_type": "code",
   "execution_count": null,
   "id": "75ec7e11-3940-4f9a-9243-12c16096ddf4",
   "metadata": {},
   "outputs": [],
   "source": [
    "# K-means Clustering\n",
    "# apply the given clustering technique on all genes to identify\n",
    "\n",
    "k_means_data_X = pd.DataFrame(X_TSNE)\n",
    "k_means_data_X.head(5)"
   ]
  },
  {
   "cell_type": "code",
   "execution_count": null,
   "id": "41043421-7d89-40b8-8eb4-2eb66870da9f",
   "metadata": {},
   "outputs": [],
   "source": [
    "from sklearn.cluster import KMeans\n",
    "Kmeans_Model_X = KMeans(n_clusters=5)\n",
    "Kmeans_Model_X.fit(k_means_data_X)\n",
    "k_means_data_X[\"Cluster_Label_X\"] = Kmeans_Model_X.labels_\n",
    "clu_column = k_means_data_X.pop('Cluster_Label_X')\n",
    "k_means_data_X.insert(0, 'Cluster_Label_X', clu_column)\n",
    "k_means_data_X.rename({0:\"col1\", 1:\"col2\"}, axis=1, inplace=True)"
   ]
  },
  {
   "cell_type": "code",
   "execution_count": null,
   "id": "3818697c-8833-4981-9def-987aa401f69a",
   "metadata": {},
   "outputs": [],
   "source": [
    "sns.lmplot(\"col1\",\"col2\", data = k_means_data_X, hue = 'Cluster_Label_X',\n",
    " palette =\"coolwarm\" , fit_reg = False)"
   ]
  },
  {
   "cell_type": "code",
   "execution_count": null,
   "id": "41c69158-2582-4b1a-b709-ecc0a5e56efd",
   "metadata": {},
   "outputs": [],
   "source": [
    "# Apply the given clustering technique on all samples to identify\n",
    "\n",
    "Kmeans_Model_Y = KMeans(n_clusters=5)\n",
    "Kmeans_Model_Y.fit(y.reshape(-1,1))"
   ]
  },
  {
   "cell_type": "code",
   "execution_count": null,
   "id": "7ae9be36-1c88-4b92-9217-120640c1ee6e",
   "metadata": {},
   "outputs": [],
   "source": [
    "k_means_data_Y = pd.DataFrame(y)\n",
    "k_means_data_Y.rename({0:\"class_\"}, axis=1, inplace=True)\n",
    "k_means_data_Y[\"Cluster_Label_Y\"] = Kmeans_Model_Y.labels_\n",
    "clu_column2 = k_means_data_Y.pop('Cluster_Label_Y')\n",
    "k_means_data_Y.insert(0, 'Cluster_Label_Y', clu_column2)\n",
    "k_means_data_Y['index_col'] = k_means_data_Y.index\n",
    "k_means_data_Y.head(5)"
   ]
  },
  {
   "cell_type": "code",
   "execution_count": null,
   "id": "c6adcdde-69b2-42a0-bddb-b98d24b99753",
   "metadata": {},
   "outputs": [],
   "source": [
    "sns.lmplot(\"index_col\",\"class_\", data=k_means_data_Y, hue = 'Cluster_Label_Y', palette =\"coolwarm\" , fit_reg = False)"
   ]
  },
  {
   "cell_type": "code",
   "execution_count": null,
   "id": "4f41890b-f011-472c-951d-787ee0f827e8",
   "metadata": {},
   "outputs": [],
   "source": [
    "# Hierarchical Clustering\n",
    "# Apply the given clustering technique on all genes to identify\n",
    "\n",
    "Hierarchical_Clustering_data_X = pd.DataFrame(X_TSNE)\n",
    "Hierarchical_Clustering_data_X.head(5)"
   ]
  },
  {
   "cell_type": "code",
   "execution_count": null,
   "id": "1fe1ad1a-decf-4ac4-a10d-ee2527d36151",
   "metadata": {},
   "outputs": [],
   "source": [
    "from sklearn.cluster import AgglomerativeClustering\n",
    "Hierarchical_Clustering_X = AgglomerativeClustering(n_clusters=5, affinity='euclidean', linkage='ward')\n",
    "Hierarchical_Clustering_X.fit(Hierarchical_Clustering_data_X)"
   ]
  },
  {
   "cell_type": "code",
   "execution_count": null,
   "id": "7e483861-66e2-4afa-89d3-a6d5f9a93581",
   "metadata": {},
   "outputs": [],
   "source": [
    "Hierarchical_Clustering_data_X[\"Cluster_Label_X\"] = Hierarchical_Clustering_X.labels_\n",
    "clu_column3 = Hierarchical_Clustering_data_X.pop('Cluster_Label_X')\n",
    "Hierarchical_Clustering_data_X.insert(0, 'Cluster_Label_X', clu_column3)\n",
    "Hierarchical_Clustering_data_X.rename({0:\"col1\", 1:\"col2\"}, axis=1, inplace=True)\n",
    "Hierarchical_Clustering_data_X.head(5)"
   ]
  },
  {
   "cell_type": "code",
   "execution_count": null,
   "id": "2ddd79b4-86f3-4a4f-89b9-608428238419",
   "metadata": {},
   "outputs": [],
   "source": [
    "sns.lmplot(\"col1\",\"col2\", data=Hierarchical_Clustering_data_X, hue = 'Cluster_Label_X', palette =\"bright\" , fit_reg = False)"
   ]
  },
  {
   "cell_type": "code",
   "execution_count": null,
   "id": "88fd3657-cc1c-4a34-97aa-090a2e8ede45",
   "metadata": {},
   "outputs": [],
   "source": [
    "# Apply the given clustering technique on all samples to identify\n",
    "\n",
    "Hierarchical_Clustering_data_Y = pd.DataFrame(y)\n",
    "Hierarchical_Clustering_data_Y.rename({0:\"class_\"}, axis=1, inplace=True)\n",
    "Hierarchical_Clustering_data_Y.head(5)"
   ]
  },
  {
   "cell_type": "code",
   "execution_count": null,
   "id": "737f7397-330d-408d-a11b-da5203e695fb",
   "metadata": {},
   "outputs": [],
   "source": [
    "Hierarchical_Clustering_Y = AgglomerativeClustering(n_clusters=5, affinity='euclidean', linkage='ward')\n",
    "Hierarchical_Clustering_Y.fit(Hierarchical_Clustering_data_Y)"
   ]
  },
  {
   "cell_type": "code",
   "execution_count": null,
   "id": "8080d2df-054f-4d6e-a31f-8c2750614dc1",
   "metadata": {},
   "outputs": [],
   "source": [
    "Hierarchical_Clustering_data_Y[\"Cluster_Label_Y\"] = Hierarchical_Clustering_Y.labels_\n",
    "clu_column4 = Hierarchical_Clustering_data_Y.pop('Cluster_Label_Y')\n",
    "Hierarchical_Clustering_data_Y.insert(0, 'Cluster_Label_Y', clu_column4)\n",
    "Hierarchical_Clustering_data_Y['index_col'] = Hierarchical_Clustering_data_Y.index\n",
    "Hierarchical_Clustering_data_Y.head(5)"
   ]
  },
  {
   "cell_type": "code",
   "execution_count": null,
   "id": "27b5bf16-4018-4b7c-a35e-bf661044168b",
   "metadata": {},
   "outputs": [],
   "source": [
    "sns.lmplot(\"index_col\",\"class_\", data=Hierarchical_Clustering_data_Y, hue = 'Cluster_Label_Y', palette =\"bright\" , fit_reg = False)"
   ]
  },
  {
   "cell_type": "code",
   "execution_count": null,
   "id": "af1ddd2a-976e-4a32-b905-4c30bf08983a",
   "metadata": {},
   "outputs": [],
   "source": [
    "# Mean-Shift Clustering\n",
    "# Apply the given clustering technique on all genes to identify\n",
    "\n",
    "Mean_Shift_Clustering_data_X = pd.DataFrame(X_TSNE)\n",
    "Mean_Shift_Clustering_data_X.head(5)"
   ]
  },
  {
   "cell_type": "code",
   "execution_count": null,
   "id": "6e60da3e-3e2b-4b89-b7dc-7864515a5b0f",
   "metadata": {},
   "outputs": [],
   "source": [
    "from sklearn.cluster import MeanShift\n",
    "from mpl_toolkits.mplot3d import Axes3D\n",
    "ms_X = MeanShift(bandwidth=10)\n",
    "ms_X.fit(Mean_Shift_Clustering_data_X)"
   ]
  },
  {
   "cell_type": "code",
   "execution_count": null,
   "id": "1c56d82f-6a2c-457e-8776-454b938a3c21",
   "metadata": {},
   "outputs": [],
   "source": [
    "Mean_Shift_Clustering_data_X[\"Cluster_Label_X\"] = ms_X.labels_\n",
    "clu_column5 = Mean_Shift_Clustering_data_X.pop('Cluster_Label_X')\n",
    "Mean_Shift_Clustering_data_X.insert(0, 'Cluster_Label_X', clu_column5)\n",
    "Mean_Shift_Clustering_data_X.rename({0:\"col1\", 1:\"col2\"}, axis=1, inplace=True)\n",
    "Mean_Shift_Clustering_data_X.head(5)"
   ]
  },
  {
   "cell_type": "code",
   "execution_count": null,
   "id": "775bb914-35a5-4e87-899b-c23743aa88c4",
   "metadata": {},
   "outputs": [],
   "source": [
    "sns.lmplot(\"col1\",\"col2\", data=Mean_Shift_Clustering_data_X, hue = 'Cluster_Label_X', palette =\"PuOr\" , fit_reg = False)"
   ]
  },
  {
   "cell_type": "code",
   "execution_count": null,
   "id": "8dd2517e-5573-4e2a-bbed-f2f0b7526510",
   "metadata": {},
   "outputs": [],
   "source": [
    "# Apply the given clustering technique on all samples to identify\n",
    "\n",
    "Mean_Shift_Clustering_data_Y = pd.DataFrame(y)\n",
    "Mean_Shift_Clustering_data_Y.rename({0:\"class_\"}, axis=1, inplace=True)\n",
    "Mean_Shift_Clustering_data_Y.head(5)"
   ]
  },
  {
   "cell_type": "code",
   "execution_count": null,
   "id": "2c6904fd-75e9-455e-bfc4-c8d59b610ba7",
   "metadata": {},
   "outputs": [],
   "source": [
    "ms_Y = MeanShift(bandwidth=10)\n",
    "ms_Y.fit(Mean_Shift_Clustering_data_Y)"
   ]
  },
  {
   "cell_type": "code",
   "execution_count": null,
   "id": "d7c45a19-1c7c-499f-a946-646c40554943",
   "metadata": {},
   "outputs": [],
   "source": [
    "Mean_Shift_Clustering_data_Y[\"Cluster_Label_Y\"] = ms_Y.labels_\n",
    "clu_column6 = Mean_Shift_Clustering_data_Y.pop('Cluster_Label_Y')\n",
    "Mean_Shift_Clustering_data_Y.insert(0, 'Cluster_Label_Y', clu_column6)\n",
    "Mean_Shift_Clustering_data_Y['index_col'] = Mean_Shift_Clustering_data_Y.index\n",
    "Mean_Shift_Clustering_data_Y.head(5)"
   ]
  },
  {
   "cell_type": "code",
   "execution_count": null,
   "id": "bb25ab2c-2b8d-4475-9d22-f230a9ee3b6e",
   "metadata": {},
   "outputs": [],
   "source": [
    "sns.lmplot(\"index_col\",\"class_\", data=Mean_Shift_Clustering_data_Y, hue = 'Cluster_Label_Y', palette =\"PuOr\" , fit_reg = False)"
   ]
  },
  {
   "cell_type": "code",
   "execution_count": null,
   "id": "75ce992d-fb4c-40a9-bc34-1ffc8ad8f3e6",
   "metadata": {},
   "outputs": [],
   "source": [
    "# Support Vector Machine - Original Datasets\n",
    "X_ORG = data.copy()\n",
    "del X_ORG['Unnamed: 0']\n",
    "X_ORG.head(5)"
   ]
  },
  {
   "cell_type": "code",
   "execution_count": null,
   "id": "19e2f14c-5b7d-4a4a-9ee9-1f21e9d00489",
   "metadata": {},
   "outputs": [],
   "source": [
    "from sklearn.model_selection import train_test_split\n",
    "x_train_SVM_ORG, x_test_SVM_ORG, y_train_SVM_ORG, y_test_SVM_ORG = train_test_split(X_ORG, y, test_size = 0.30, random_state = 21)\n",
    "print(x_train_SVM_ORG.shape)\n",
    "print(x_test_SVM_ORG.shape)\n",
    "print(y_train_SVM_ORG.shape)\n",
    "print(y_test_SVM_ORG.shape)"
   ]
  },
  {
   "cell_type": "code",
   "execution_count": null,
   "id": "66407064-d521-49a8-aae5-f17d994b8301",
   "metadata": {},
   "outputs": [],
   "source": [
    "from sklearn.svm import SVC\n",
    "model_SVM_ORG = SVC()\n",
    "model_SVM_ORG.fit(x_train_SVM_ORG, y_train_SVM_ORG)\n"
   ]
  },
  {
   "cell_type": "code",
   "execution_count": null,
   "id": "7ce171d4-205c-4e2b-9de4-e90b2f6bb1c3",
   "metadata": {},
   "outputs": [],
   "source": [
    "\n",
    "y_test_pred_SVM_ORG = model_SVM_ORG.predict(x_test_SVM_ORG)\n",
    "y_train_pred_SVM_ORG = model_SVM_ORG.predict(x_train_SVM_ORG)\n"
   ]
  },
  {
   "cell_type": "code",
   "execution_count": null,
   "id": "1409a657-8332-4154-b609-76cd9da67b54",
   "metadata": {},
   "outputs": [],
   "source": [
    "from sklearn.metrics import accuracy_score\n",
    "print(\"Testing Accuracy :\", accuracy_score(y_test_SVM_ORG, y_test_pred_SVM_ORG).round(4)*100,'%')\n",
    "print(\"Training Accuracy :\", accuracy_score(y_train_SVM_ORG, y_train_pred_SVM_ORG).round(2)*100,'%')"
   ]
  },
  {
   "cell_type": "code",
   "execution_count": null,
   "id": "3c47ce3f-c2a3-4d9f-89fb-db7ffc763683",
   "metadata": {},
   "outputs": [],
   "source": [
    "from sklearn.metrics import confusion_matrix, classification_report\n",
    "print(classification_report(y_train_SVM_ORG, y_train_pred_SVM_ORG))"
   ]
  },
  {
   "cell_type": "code",
   "execution_count": null,
   "id": "d7b0cdd0-0f37-494b-b105-2ab399df140a",
   "metadata": {},
   "outputs": [],
   "source": [
    "print(classification_report(y_test_SVM_ORG, y_test_pred_SVM_ORG))\n"
   ]
  },
  {
   "cell_type": "code",
   "execution_count": null,
   "id": "772e7501-239c-4878-bb13-3144d48ace86",
   "metadata": {},
   "outputs": [],
   "source": [
    "\n",
    "from sklearn.metrics import roc_auc_score\n",
    "model_roc_SVM_ORG = SVC(probability=True)\n",
    "model_roc_SVM_ORG.fit(x_train_SVM_ORG, y_train_SVM_ORG)\n",
    "y_test_pred_SVM_ROC_ORG = model_roc_SVM_ORG.predict_proba(x_test_SVM_ORG)\n",
    "print(\"roc_auc_score: \",roc_auc_score(y_test_SVM_ORG, y_test_pred_SVM_ROC_ORG, multi_class= \"ovr\"))"
   ]
  },
  {
   "cell_type": "code",
   "execution_count": null,
   "id": "2ed954ba-b936-43c4-8337-035e2c978a10",
   "metadata": {},
   "outputs": [],
   "source": [
    "import scikitplot as skplt\n",
    "skplt.metrics.plot_roc_curve(y_test_SVM_ORG, y_test_pred_SVM_ROC_ORG)\n",
    "plt.show()"
   ]
  },
  {
   "cell_type": "code",
   "execution_count": null,
   "id": "bb2813a8-40dd-4ed3-86a8-2e2124e480e1",
   "metadata": {},
   "outputs": [],
   "source": [
    "# Support Vector Machine - Dimensionality Reduction Datasets\n",
    "x_train_SVM_TSNE, x_test_SVM_TSNE, y_train_SVM_TSNE, y_test_SVM_TSNE = train_test_split(X_TSNE, y, test_size = 0.30, random_state = 21)\n",
    "print(x_train_SVM_TSNE.shape)\n",
    "print(x_test_SVM_TSNE.shape)\n",
    "print(y_train_SVM_TSNE.shape)\n",
    "print(y_test_SVM_TSNE.shape)"
   ]
  },
  {
   "cell_type": "code",
   "execution_count": null,
   "id": "b95317e6-4387-41f7-8624-86cc0cde31d8",
   "metadata": {},
   "outputs": [],
   "source": [
    "model_SVM_TSNE = SVC()\n",
    "model_SVM_TSNE.fit(x_train_SVM_TSNE, y_train_SVM_TSNE)"
   ]
  },
  {
   "cell_type": "code",
   "execution_count": null,
   "id": "dfc3b570-1867-42a7-be1e-ece165c52600",
   "metadata": {},
   "outputs": [],
   "source": [
    "y_test_pred_SVM_TSNE = model_SVM_TSNE.predict(x_test_SVM_TSNE)\n",
    "y_train_pred_SVM_TSNE = model_SVM_TSNE.predict(x_train_SVM_TSNE)\n"
   ]
  },
  {
   "cell_type": "code",
   "execution_count": null,
   "id": "0081c4a7-f364-47dd-b09a-b3714a7e70f8",
   "metadata": {},
   "outputs": [],
   "source": [
    "\n",
    "print(\"Testing Accuracy :\", accuracy_score(y_test_SVM_TSNE, y_test_pred_SVM_TSNE).round(4)*100,'%')\n",
    "print(\"Training Accuracy :\", accuracy_score(y_train_SVM_TSNE, y_train_pred_SVM_TSNE).round(2)*100,'%')"
   ]
  },
  {
   "cell_type": "code",
   "execution_count": null,
   "id": "1986a1c8-50ab-4ebf-98c2-4931f20d1889",
   "metadata": {},
   "outputs": [],
   "source": [
    "print(classification_report(y_train_SVM_TSNE, y_train_pred_SVM_TSNE))"
   ]
  },
  {
   "cell_type": "code",
   "execution_count": null,
   "id": "4b3f8cf7-68e5-4cff-8330-84a3b342ffdc",
   "metadata": {},
   "outputs": [],
   "source": [
    "print(classification_report(y_test_SVM_TSNE, y_test_pred_SVM_TSNE))"
   ]
  },
  {
   "cell_type": "code",
   "execution_count": null,
   "id": "43571835-5019-4409-995b-17f2d05e5d2b",
   "metadata": {},
   "outputs": [],
   "source": [
    "model_roc_SVM_TSNE = SVC(probability=True)\n",
    "model_roc_SVM_TSNE.fit(x_train_SVM_TSNE, y_train_SVM_TSNE)\n",
    "y_test_pred_SVM_ROC_TSNE = model_roc_SVM_TSNE.predict_proba(x_test_SVM_TSNE)\n",
    "print(\"roc_auc_score: \",roc_auc_score(y_test_SVM_TSNE, y_test_pred_SVM_ROC_TSNE, multi_class= \"ovr\"))"
   ]
  },
  {
   "cell_type": "code",
   "execution_count": null,
   "id": "1fa16c33-58b3-4808-ace5-ae714e10454d",
   "metadata": {},
   "outputs": [],
   "source": [
    "skplt.metrics.plot_roc_curve(y_test_SVM_TSNE, y_test_pred_SVM_ROC_TSNE)\n",
    "plt.show()"
   ]
  },
  {
   "cell_type": "code",
   "execution_count": null,
   "id": "9908f1e7-d571-4d88-8c16-1ed05bd5613a",
   "metadata": {},
   "outputs": [],
   "source": [
    "# Random Forest - Original Datasets\n",
    "\n",
    "x_train_RF_ORG, x_test_RF_ORG, y_train_RF_ORG, y_test_RF_ORG = train_test_split(X_ORG, y, test_size = 0.30, random_state = 21)\n",
    "print(x_train_RF_ORG.shape)\n",
    "print(x_test_RF_ORG.shape)\n",
    "print(y_train_RF_ORG.shape)\n",
    "print(y_test_RF_ORG.shape)\n"
   ]
  },
  {
   "cell_type": "code",
   "execution_count": null,
   "id": "66525cf6-117e-425c-bc1e-21d97b5a9e35",
   "metadata": {},
   "outputs": [],
   "source": [
    "from sklearn.ensemble import RandomForestClassifier\n",
    "model_RF_ORG = RandomForestClassifier()\n",
    "model_RF_ORG.fit(x_train_RF_ORG, y_train_RF_ORG)"
   ]
  },
  {
   "cell_type": "code",
   "execution_count": null,
   "id": "932c0531-f77f-498c-b3bf-d8eb5cc1a56f",
   "metadata": {},
   "outputs": [],
   "source": [
    "y_test_pred_RF_ORG = model_RF_ORG.predict(x_test_RF_ORG)\n",
    "y_train_pred_RF_ORG = model_RF_ORG.predict(x_train_RF_ORG)\n"
   ]
  },
  {
   "cell_type": "code",
   "execution_count": null,
   "id": "ed1f1296-3fb6-4516-a956-59bb173ea1bb",
   "metadata": {},
   "outputs": [],
   "source": [
    "\n",
    "print(\"Testing Accuracy :\", accuracy_score(y_test_RF_ORG, y_test_pred_RF_ORG).round(4)*100,'%')\n",
    "print(\"Training Accuracy :\", accuracy_score(y_train_RF_ORG, y_train_pred_RF_ORG).round(2)*100,'%')"
   ]
  },
  {
   "cell_type": "code",
   "execution_count": null,
   "id": "4175cb5b-c08e-411b-96ad-f456c76713c8",
   "metadata": {},
   "outputs": [],
   "source": [
    "print(classification_report(y_train_RF_ORG, y_train_pred_RF_ORG))\n"
   ]
  },
  {
   "cell_type": "code",
   "execution_count": null,
   "id": "c8de029d-8b71-42f9-b676-bb520407f690",
   "metadata": {},
   "outputs": [],
   "source": [
    "print(classification_report(y_test_RF_ORG, y_test_pred_RF_ORG))\n"
   ]
  },
  {
   "cell_type": "code",
   "execution_count": null,
   "id": "a9d3a58b-9c78-4294-8732-01737cb7e778",
   "metadata": {},
   "outputs": [],
   "source": [
    "RF_model_roc_ORG = RandomForestClassifier()\n",
    "RF_model_roc_ORG.fit(x_train_RF_ORG, y_train_RF_ORG)\n",
    "y_test_pred_RF_ROC_ORG = RF_model_roc_ORG.predict_proba(x_test_RF_ORG)\n",
    "print(\"roc_auc_score: \",roc_auc_score(y_test_RF_ORG, y_test_pred_RF_ROC_ORG, multi_class= \"ovr\"))\n"
   ]
  },
  {
   "cell_type": "code",
   "execution_count": null,
   "id": "b9cee18d-1efe-4120-984c-cded0faab092",
   "metadata": {},
   "outputs": [],
   "source": [
    "\n",
    "skplt.metrics.plot_roc_curve(y_test_RF_ORG, y_test_pred_RF_ROC_ORG)\n",
    "plt.show()"
   ]
  },
  {
   "cell_type": "code",
   "execution_count": null,
   "id": "8a929967-e3f7-4669-af47-30c7dfc89c41",
   "metadata": {},
   "outputs": [],
   "source": [
    "# Random Forest - Dimensionality Reduction Datasets\n",
    "x_train_RF_TSNE, x_test_RF_TSNE, y_train_RF_TSNE, y_test_RF_TSNE = train_test_split(X_TSNE, y, test_size = 0.30, random_state = 21)\n",
    "print(x_train_RF_TSNE.shape)\n",
    "print(x_test_RF_TSNE.shape)\n",
    "print(y_train_RF_TSNE.shape)\n",
    "print(y_test_RF_TSNE.shape)"
   ]
  },
  {
   "cell_type": "code",
   "execution_count": null,
   "id": "2ed49e46-f80f-45a7-ae22-da052cda25d4",
   "metadata": {},
   "outputs": [],
   "source": [
    "model_RF_TSNE = SVC()\n",
    "model_RF_TSNE.fit(x_train_RF_TSNE, y_train_RF_TSNE)"
   ]
  },
  {
   "cell_type": "code",
   "execution_count": null,
   "id": "768bc59f-6cb3-4230-a1fb-a8a61751e2e8",
   "metadata": {},
   "outputs": [],
   "source": [
    "y_test_pred_RF_TSNE = model_RF_TSNE.predict(x_test_RF_TSNE)\n",
    "y_train_pred_RF_TSNE = model_RF_TSNE.predict(x_train_RF_TSNE)"
   ]
  },
  {
   "cell_type": "code",
   "execution_count": null,
   "id": "0394a444-a8f1-42c1-a603-5c56c503434c",
   "metadata": {},
   "outputs": [],
   "source": [
    "print(\"Testing Accuracy :\", accuracy_score(y_test_RF_TSNE, y_test_pred_RF_TSNE).round(4)*100,'%')\n",
    "print(\"Training Accuracy :\", accuracy_score(y_train_RF_TSNE, y_train_pred_RF_TSNE).round(2)*100,'%')"
   ]
  },
  {
   "cell_type": "code",
   "execution_count": null,
   "id": "1762f518-5829-45ae-beb7-3c849d3f33ba",
   "metadata": {},
   "outputs": [],
   "source": [
    "print(classification_report(y_train_RF_TSNE, y_train_pred_RF_TSNE))"
   ]
  },
  {
   "cell_type": "code",
   "execution_count": null,
   "id": "3696e348-eada-4e28-896c-16aef730c146",
   "metadata": {},
   "outputs": [],
   "source": [
    "print(classification_report(y_test_RF_TSNE, y_test_pred_RF_TSNE))"
   ]
  },
  {
   "cell_type": "code",
   "execution_count": null,
   "id": "00fa2cc1-6bc5-472b-944e-3c7160e4b6d3",
   "metadata": {},
   "outputs": [],
   "source": [
    "RF_model_roc_TSNE = RandomForestClassifier()\n",
    "RF_model_roc_TSNE.fit(x_train_RF_TSNE, y_train_RF_TSNE)\n",
    "y_test_pred_RF_ROC_TSNE = RF_model_roc_TSNE.predict_proba(x_test_RF_TSNE)\n",
    "print(\"roc_auc_score: \",roc_auc_score(y_test_RF_TSNE, y_test_pred_RF_ROC_TSNE, multi_class= \"ovr\"))"
   ]
  },
  {
   "cell_type": "code",
   "execution_count": null,
   "id": "2411d909-d07e-40ac-b999-a2e74a4cd878",
   "metadata": {},
   "outputs": [],
   "source": [
    "\n",
    "skplt.metrics.plot_roc_curve(y_test_RF_TSNE, y_test_pred_RF_ROC_TSNE)\n",
    "plt.show()\n"
   ]
  },
  {
   "cell_type": "code",
   "execution_count": null,
   "id": "3933cfd0-d5f5-44c1-92f9-319d91d863ad",
   "metadata": {},
   "outputs": [],
   "source": [
    "# Deep Neural Network - Original Datasets\n",
    "x_train_DNN_ORG, x_test_DNN_ORG, y_train_DNN_ORG, y_test_DNN_ORG = train_test_split(X_ORG, y, test_size = 0.30, random_state = 21)\n",
    "print(x_train_DNN_ORG.shape)\n",
    "print(x_test_DNN_ORG.shape)\n",
    "print(y_train_DNN_ORG.shape)\n",
    "print(y_test_DNN_ORG.shape)"
   ]
  },
  {
   "cell_type": "code",
   "execution_count": null,
   "id": "2020b571-a50e-4f2c-8e0d-e3788eeae4f4",
   "metadata": {},
   "outputs": [],
   "source": [
    "# Modeling\n",
    "import tensorflow as tf\n",
    "from tensorflow.keras.models import Sequential\n",
    "from tensorflow.keras.layers import Dense\n",
    "model_DNN_ORG = Sequential()\n",
    "model_DNN_ORG.add(tf.keras.layers.BatchNormalization(input_shape=(20531,)))\n",
    "model_DNN_ORG.add(tf.keras.layers.Dense(20531))"
   ]
  },
  {
   "cell_type": "code",
   "execution_count": null,
   "id": "cfb53f61-a141-4132-bd49-5bb3fbbc8763",
   "metadata": {},
   "outputs": [],
   "source": [
    "# Model - 1st hidden layer\n",
    "model_DNN_ORG.add(tf.keras.layers.Dense(1000, activation = 'tanh')) \n",
    "model_DNN_ORG.add(tf.keras.layers.BatchNormalization()) \n",
    "model_DNN_ORG.add(tf.keras.layers.Dropout(0.03))\n",
    "tf.random.set_seed(10)"
   ]
  },
  {
   "cell_type": "code",
   "execution_count": null,
   "id": "23543061-7d21-4ebb-8301-0121d4e702da",
   "metadata": {},
   "outputs": [],
   "source": [
    "# Model - 2nd hidden layer\n",
    "model_DNN_ORG.add(tf.keras.layers.Dense(500))\n",
    "model_DNN_ORG.add(tf.keras.layers.LeakyReLU()) \n",
    "model_DNN_ORG.add(tf.keras.layers.BatchNormalization()) \n",
    "model_DNN_ORG.add(tf.keras.layers.Dropout(0.01))\n",
    "tf.random.set_seed(10)"
   ]
  },
  {
   "cell_type": "code",
   "execution_count": null,
   "id": "889d406e-4d3e-43d4-a4d7-240984e36805",
   "metadata": {},
   "outputs": [],
   "source": [
    "# Model - 3rd hidden layer\n",
    "model_DNN_ORG.add(tf.keras.layers.Dense(250, activation = 'softmax'))\n"
   ]
  },
  {
   "cell_type": "code",
   "execution_count": null,
   "id": "63cba251-5b55-454a-8739-c37a97f85393",
   "metadata": {},
   "outputs": [],
   "source": [
    "# Model - output layer\n",
    "model_DNN_ORG.add(tf.keras.layers.Dense(5))\n"
   ]
  },
  {
   "cell_type": "code",
   "execution_count": null,
   "id": "a643ef82-f5d2-4830-8ea1-3c642b5eaa3b",
   "metadata": {},
   "outputs": [],
   "source": [
    "# Model - Compile\n",
    "\n",
    "opt = tf.keras.optimizers.Adam(learning_rate=0.001)\n",
    "model_DNN_ORG.compile(optimizer=opt, loss='categorical_crossentropy')"
   ]
  },
  {
   "cell_type": "code",
   "execution_count": null,
   "id": "61a00cf0-f0ab-44f1-9298-2e0d4ec1adf0",
   "metadata": {},
   "outputs": [],
   "source": [
    "# Fit & train model\n",
    "\n",
    "y_train_DNN_ORG = tf.keras.utils.to_categorical(y_train_DNN_ORG, 5)\n",
    "y_test_DNN_ORG = tf.keras.utils.to_categorical(y_test_DNN_ORG, 5)\n",
    "model_DNN_ORG.fit(x_train_DNN_ORG, y_train_DNN_ORG, epochs=10, batch_size=1000, validation_data=(x_test_DNN_ORG, y_test_DNN_ORG))"
   ]
  },
  {
   "cell_type": "code",
   "execution_count": null,
   "id": "2f801a19-c990-4d2e-9aff-2667eebb64b4",
   "metadata": {},
   "outputs": [],
   "source": [
    "model_DNN_ORG.summary()\n"
   ]
  },
  {
   "cell_type": "code",
   "execution_count": null,
   "id": "06a1ae77-a09b-4ab2-b84b-1253388d6a88",
   "metadata": {},
   "outputs": [],
   "source": [
    "# Evaluating the accuracy of the model\n",
    "plt.figure(figsize=(10,10))\n",
    "plt.xlabel('Epoches')\n",
    "plt.ylabel('categorical_crossentropy')\n",
    "plt.plot(model_DNN_ORG.history.history['loss'][:])\n",
    "plt.plot(model_DNN_ORG.history.history['val_loss'][:])\n",
    "plt.show()\n"
   ]
  },
  {
   "cell_type": "code",
   "execution_count": null,
   "id": "b5d72009-6d7e-493a-bd8f-07ea4501e70d",
   "metadata": {},
   "outputs": [],
   "source": [
    "y_test_pred_DNN_ORG = model_DNN_ORG.predict(x_test_DNN_ORG)"
   ]
  },
  {
   "cell_type": "code",
   "execution_count": null,
   "id": "5978629b-9a98-4744-b8d5-779f0c6ca183",
   "metadata": {},
   "outputs": [],
   "source": [
    "y_test_DNN_ORG_ARG = np.argmax(y_test_DNN_ORG,axis=1)\n",
    "y_test_pred_DNN_ORG_ARG = np.argmax(model_DNN_ORG.predict(x_test_DNN_ORG),axis=1)\n",
    "print(\"Testing Accuracy :\", accuracy_score(y_test_DNN_ORG_ARG, y_test_pred_DNN_ORG_ARG).round(4)*100,'%')"
   ]
  },
  {
   "cell_type": "code",
   "execution_count": null,
   "id": "17a23008-8c75-4acb-9ad6-c22abf82960c",
   "metadata": {},
   "outputs": [],
   "source": [
    "y_train_DNN_ORG_ARG = np.argmax(y_train_DNN_ORG,axis=1)\n",
    "y_train_pred_DNN_ORG_ARG = np.argmax(model_DNN_ORG.predict(x_train_DNN_ORG),axis=1)\n",
    "print(\"Training Accuracy :\", accuracy_score(y_train_DNN_ORG_ARG, y_train_pred_DNN_ORG_ARG).round(4)*100,'%')"
   ]
  },
  {
   "cell_type": "code",
   "execution_count": null,
   "id": "7049a2fe-84e5-47cd-873b-862f306cbc1c",
   "metadata": {},
   "outputs": [],
   "source": [
    "print(classification_report(y_test_DNN_ORG_ARG, y_test_pred_DNN_ORG_ARG))"
   ]
  },
  {
   "cell_type": "code",
   "execution_count": null,
   "id": "48e1d143-9019-40b3-83ef-981aa41f1a59",
   "metadata": {},
   "outputs": [],
   "source": [
    "print(classification_report(y_train_DNN_ORG_ARG, y_train_pred_DNN_ORG_ARG))"
   ]
  },
  {
   "cell_type": "code",
   "execution_count": null,
   "id": "7c5d9fcc-074e-4b74-9751-8ad3735858c8",
   "metadata": {},
   "outputs": [],
   "source": [
    "\n",
    "y_test_pred_DNN_ROC_ORG = model_DNN_ORG.predict_proba(x_test_DNN_ORG)\n",
    "print(\"roc_auc_score: \",roc_auc_score(y_test_DNN_ORG, y_test_pred_DNN_ROC_ORG, multi_class= \"ovr\"))"
   ]
  },
  {
   "cell_type": "code",
   "execution_count": null,
   "id": "b42adb48-79a6-427c-936e-c9856405c48d",
   "metadata": {},
   "outputs": [],
   "source": [
    "skplt.metrics.plot_roc_curve(y_test_DNN_ORG.argmax(axis=1), y_test_pred_DNN_ROC_ORG)\n",
    "plt.show()"
   ]
  },
  {
   "cell_type": "code",
   "execution_count": null,
   "id": "b634091e-70a6-4c58-b2b8-64a9f7c7eb93",
   "metadata": {},
   "outputs": [],
   "source": [
    "# Deep Neural Network - Dimensionality Reduction Datasets\n",
    "x_train_DNN_TSNE, x_test_DNN_TSNE, y_train_DNN_TSNE, y_test_DNN_TSNE = train_test_split(X_TSNE, y, test_size = 0.30, random_state = 21)\n",
    "print(x_train_DNN_TSNE.shape)\n",
    "print(x_test_DNN_TSNE.shape)\n",
    "print(y_train_DNN_TSNE.shape)\n",
    "print(y_test_DNN_TSNE.shape)\n",
    "\n",
    "\n"
   ]
  },
  {
   "cell_type": "code",
   "execution_count": null,
   "id": "21cad596-fd93-41f7-a896-9142460cd565",
   "metadata": {},
   "outputs": [],
   "source": [
    "# Modeling\n",
    "model_DNN_TSNE = Sequential()\n",
    "model_DNN_TSNE.add(tf.keras.layers.BatchNormalization(input_shape=(2,)))\n",
    "model_DNN_TSNE.add(tf.keras.layers.Dense(2))"
   ]
  },
  {
   "cell_type": "code",
   "execution_count": null,
   "id": "0f9d52d1-4f23-4f7f-8fdd-2ccad37d6a9b",
   "metadata": {},
   "outputs": [],
   "source": [
    "# Model - 1st hidden layer\n",
    "model_DNN_TSNE.add(tf.keras.layers.Dense(10, activation = 'tanh')) \n",
    "model_DNN_TSNE.add(tf.keras.layers.BatchNormalization()) \n",
    "model_DNN_TSNE.add(tf.keras.layers.Dropout(0.03))\n",
    "tf.random.set_seed(10)\n"
   ]
  },
  {
   "cell_type": "code",
   "execution_count": null,
   "id": "ab333dc6-b46c-485a-bf90-0f25faa44290",
   "metadata": {},
   "outputs": [],
   "source": [
    "# Model - 2nd hidden layer\n",
    "model_DNN_TSNE.add(tf.keras.layers.Dense(8))\n",
    "model_DNN_TSNE.add(tf.keras.layers.LeakyReLU()) \n",
    "model_DNN_TSNE.add(tf.keras.layers.BatchNormalization()) \n",
    "model_DNN_TSNE.add(tf.keras.layers.Dropout(0.01))\n",
    "tf.random.set_seed(10)\n"
   ]
  },
  {
   "cell_type": "code",
   "execution_count": null,
   "id": "bcdbd82d-63bb-4c04-b3f1-757b42b502d2",
   "metadata": {},
   "outputs": [],
   "source": [
    "# Model - 3rd hidden later\n",
    "model_DNN_TSNE.add(tf.keras.layers.Dense(6, activation = 'softmax'))\n"
   ]
  },
  {
   "cell_type": "code",
   "execution_count": null,
   "id": "a0f02a0c-5b5d-4e6f-b084-c119939e2114",
   "metadata": {},
   "outputs": [],
   "source": [
    "# Model - output layer\n",
    "model_DNN_TSNE.add(tf.keras.layers.Dense(5))"
   ]
  },
  {
   "cell_type": "code",
   "execution_count": null,
   "id": "68aa89f5-c582-4863-b79f-e5ea2f5a5c9f",
   "metadata": {},
   "outputs": [],
   "source": [
    "# Model - compile\n",
    "opt = tf.keras.optimizers.Adam(learning_rate=0.001)\n",
    "model_DNN_TSNE.compile(optimizer=opt, loss='categorical_crossentropy')"
   ]
  },
  {
   "cell_type": "code",
   "execution_count": null,
   "id": "6176d2a9-8a98-4ef4-aa16-91734357dc0b",
   "metadata": {},
   "outputs": [],
   "source": [
    "# Fit & Train the Model\n",
    "y_train_DNN_TSNE = tf.keras.utils.to_categorical(y_train_DNN_TSNE, 5)\n",
    "y_test_DNN_TSNE = tf.keras.utils.to_categorical(y_test_DNN_TSNE, 5)\n",
    "model_DNN_TSNE.fit(x_train_DNN_TSNE, y_train_DNN_TSNE, epochs=50, batch_size=100, validation_data=(x_test_DNN_TSNE, y_test_DNN_TSNE))"
   ]
  },
  {
   "cell_type": "code",
   "execution_count": null,
   "id": "092343a5-b569-41fb-b656-98212bc4d7cc",
   "metadata": {},
   "outputs": [],
   "source": [
    "model_DNN_TSNE.summary()\n"
   ]
  },
  {
   "cell_type": "code",
   "execution_count": null,
   "id": "978457a0-73fa-48ff-aded-6558547f173c",
   "metadata": {},
   "outputs": [],
   "source": [
    "# Evaluating the accuracy of the model\n",
    "plt.figure(figsize=(10,10))\n",
    "plt.xlabel('Epoches')\n",
    "plt.ylabel('categorical_crossentropy')\n",
    "plt.plot(model_DNN_TSNE.history.history['loss'][:])\n",
    "plt.plot(model_DNN_TSNE.history.history['val_loss'][:])\n",
    "plt.show()"
   ]
  },
  {
   "cell_type": "code",
   "execution_count": null,
   "id": "8da88cb7-4a6f-4b6f-9464-ea9ef42c1cf8",
   "metadata": {},
   "outputs": [],
   "source": [
    "y_test_pred_DNN_TSNE = model_DNN_TSNE.predict(x_test_DNN_TSNE)\n"
   ]
  },
  {
   "cell_type": "code",
   "execution_count": null,
   "id": "0e70f8cd-a9a4-4c3a-af28-3dd9d9017bac",
   "metadata": {},
   "outputs": [],
   "source": [
    "\n",
    "y_test_DNN_TSNE_ARG = np.argmax(y_test_DNN_TSNE,axis=1)\n",
    "y_test_pred_DNN_TSNE_ARG = np.argmax(model_DNN_TSNE.predict(x_test_DNN_TSNE),axis=1)\n",
    "print(\"Testing Accuracy :\", accuracy_score(y_test_DNN_TSNE_ARG, y_test_pred_DNN_TSNE_ARG).round(4)*100,'%')"
   ]
  },
  {
   "cell_type": "code",
   "execution_count": null,
   "id": "ebdaf83a-69f1-4b7e-8a68-930847fe3221",
   "metadata": {},
   "outputs": [],
   "source": [
    "y_train_DNN_TSNE_ARG = np.argmax(y_train_DNN_TSNE,axis=1)\n",
    "y_train_pred_DNN_TSNE_ARG = np.argmax(model_DNN_TSNE.predict(x_train_DNN_TSNE),axis=1)\n",
    "print(\"Training Accuracy :\", accuracy_score(y_train_DNN_TSNE_ARG, y_train_pred_DNN_TSNE_ARG).round(4)*100,'%')"
   ]
  },
  {
   "cell_type": "code",
   "execution_count": null,
   "id": "79e73501-6063-4c00-8a57-e9e6a45b5c79",
   "metadata": {},
   "outputs": [],
   "source": [
    "print(classification_report(y_test_DNN_TSNE_ARG, y_test_pred_DNN_TSNE_ARG))"
   ]
  },
  {
   "cell_type": "code",
   "execution_count": null,
   "id": "98f60b81-ce46-4e66-8fe7-9b6f529aa495",
   "metadata": {},
   "outputs": [],
   "source": [
    "print(classification_report(y_train_DNN_TSNE_ARG, y_train_pred_DNN_TSNE_ARG))"
   ]
  },
  {
   "cell_type": "code",
   "execution_count": null,
   "id": "4fa93a0b-fbea-44e5-8aaf-2e1a58415920",
   "metadata": {},
   "outputs": [],
   "source": [
    "y_test_pred_DNN_ROC_TSNE = model_DNN_TSNE.predict_proba(x_test_DNN_TSNE)\n",
    "print(\"roc_auc_score: \",roc_auc_score(y_test_DNN_TSNE, y_test_pred_DNN_ROC_TSNE, multi_class= \"ovr\"))\n"
   ]
  },
  {
   "cell_type": "code",
   "execution_count": null,
   "id": "ee786c49-4178-44ad-b778-68a4cdf3af9f",
   "metadata": {},
   "outputs": [],
   "source": [
    "skplt.metrics.plot_roc_curve(y_test_DNN_TSNE.argmax(axis=1), y_test_pred_DNN_ROC_TSNE)\n",
    "plt.show()\n"
   ]
  },
  {
   "cell_type": "code",
   "execution_count": null,
   "id": "e74cc898-a626-4569-a917-4c0630189de8",
   "metadata": {},
   "outputs": [],
   "source": [
    "# Observations\n",
    "# Random Forest with dimensionality reduced data yielded better results over the other model"
   ]
  },
  {
   "cell_type": "code",
   "execution_count": null,
   "id": "3d211590-b887-45ad-ad3d-5f82b05d7496",
   "metadata": {},
   "outputs": [],
   "source": []
  },
  {
   "cell_type": "code",
   "execution_count": null,
   "id": "da2b5c4f-ef19-4550-9541-3969f28935fb",
   "metadata": {},
   "outputs": [],
   "source": []
  },
  {
   "cell_type": "code",
   "execution_count": null,
   "id": "255c7492-430e-40b6-9ca1-eeb730bbfcf1",
   "metadata": {},
   "outputs": [],
   "source": []
  }
 ],
 "metadata": {
  "kernelspec": {
   "display_name": "Python 3",
   "language": "python",
   "name": "python3"
  },
  "language_info": {
   "codemirror_mode": {
    "name": "ipython",
    "version": 3
   },
   "file_extension": ".py",
   "mimetype": "text/x-python",
   "name": "python",
   "nbconvert_exporter": "python",
   "pygments_lexer": "ipython3",
   "version": "3.7.6"
  }
 },
 "nbformat": 4,
 "nbformat_minor": 5
}
